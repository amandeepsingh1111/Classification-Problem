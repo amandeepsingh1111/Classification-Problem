{
  "nbformat": 4,
  "nbformat_minor": 0,
  "metadata": {
    "accelerator": "TPU",
    "colab": {
      "name": "credit_card_intent.ipynb",
      "provenance": [],
      "collapsed_sections": [
        "wW01ksHOT63j"
      ]
    },
    "kernelspec": {
      "display_name": "Python 3",
      "language": "python",
      "name": "python3"
    },
    "language_info": {
      "codemirror_mode": {
        "name": "ipython",
        "version": 3
      },
      "file_extension": ".py",
      "mimetype": "text/x-python",
      "name": "python",
      "nbconvert_exporter": "python",
      "pygments_lexer": "ipython3",
      "version": "3.7.3"
    }
  },
  "cells": [
    {
      "cell_type": "code",
      "metadata": {
        "id": "3ZAH2rShT62V"
      },
      "source": [
        "import seaborn as sns\n",
        "import warnings\n",
        "import pandas as pd\n",
        "import numpy as np\n",
        "import matplotlib.pyplot as plt\n",
        "\n",
        "\n",
        "import plotly.express as px\n",
        "import plotly.graph_objects as go"
      ],
      "execution_count": 1,
      "outputs": []
    },
    {
      "cell_type": "code",
      "metadata": {
        "id": "ieyYFKIST62e"
      },
      "source": [
        "# Supressing the warning messages\n",
        "import warnings\n",
        "warnings.filterwarnings('ignore')"
      ],
      "execution_count": 2,
      "outputs": []
    },
    {
      "cell_type": "code",
      "metadata": {
        "id": "ZKxhRN7cT62g",
        "scrolled": false
      },
      "source": [
        "train_df = pd.read_csv('https://raw.githubusercontent.com/amandeepsingh1111/Classification-Problem/master/Data/train_credit_card.csv')\n",
        "test_df = pd.read_csv('https://raw.githubusercontent.com/amandeepsingh1111/Classification-Problem/master/Data/test_credit_card.csv')"
      ],
      "execution_count": 3,
      "outputs": []
    },
    {
      "cell_type": "code",
      "metadata": {
        "id": "FLYSA05onBZV"
      },
      "source": [
        "train = train_df.copy()\n",
        "test = test_df.copy()"
      ],
      "execution_count": 4,
      "outputs": []
    },
    {
      "cell_type": "code",
      "metadata": {
        "colab": {
          "base_uri": "https://localhost:8080/"
        },
        "id": "uATDDgRDg7I_",
        "outputId": "d08f38a2-0c85-4e42-cf10-98ea05947e66"
      },
      "source": [
        "print('Shape before deleting duplicate values of train:', train.shape)\n",
        "print('Shape before deleting duplicate values of test:', test.shape,'\\n')\n",
        "\n",
        "# Removing duplicate rows if any\n",
        "train = train.drop_duplicates()\n",
        "test = test.drop_duplicates()\n",
        "\n",
        "print('Shape After deleting duplicate values of train:', train.shape)\n",
        "print('Shape After deleting duplicate values of test:', test.shape)"
      ],
      "execution_count": 5,
      "outputs": [
        {
          "output_type": "stream",
          "text": [
            "Shape before deleting duplicate values of train: (245725, 11)\n",
            "Shape before deleting duplicate values of test: (105312, 10) \n",
            "\n",
            "Shape After deleting duplicate values of train: (245725, 11)\n",
            "Shape After deleting duplicate values of test: (105312, 10)\n"
          ],
          "name": "stdout"
        }
      ]
    },
    {
      "cell_type": "code",
      "metadata": {
        "id": "r0i28THmT62l"
      },
      "source": [
        "#sample = pd.read_csv('sample_credit_card.csv')\n",
        "#sample.head()"
      ],
      "execution_count": 6,
      "outputs": []
    },
    {
      "cell_type": "code",
      "metadata": {
        "colab": {
          "base_uri": "https://localhost:8080/",
          "height": 142
        },
        "id": "9AOJP73gT62n",
        "outputId": "63d72a82-59f8-483e-de9b-8057faf8241f"
      },
      "source": [
        "train.head(3)"
      ],
      "execution_count": 7,
      "outputs": [
        {
          "output_type": "execute_result",
          "data": {
            "text/html": [
              "<div>\n",
              "<style scoped>\n",
              "    .dataframe tbody tr th:only-of-type {\n",
              "        vertical-align: middle;\n",
              "    }\n",
              "\n",
              "    .dataframe tbody tr th {\n",
              "        vertical-align: top;\n",
              "    }\n",
              "\n",
              "    .dataframe thead th {\n",
              "        text-align: right;\n",
              "    }\n",
              "</style>\n",
              "<table border=\"1\" class=\"dataframe\">\n",
              "  <thead>\n",
              "    <tr style=\"text-align: right;\">\n",
              "      <th></th>\n",
              "      <th>ID</th>\n",
              "      <th>Gender</th>\n",
              "      <th>Age</th>\n",
              "      <th>Region_Code</th>\n",
              "      <th>Occupation</th>\n",
              "      <th>Channel_Code</th>\n",
              "      <th>Vintage</th>\n",
              "      <th>Credit_Product</th>\n",
              "      <th>Avg_Account_Balance</th>\n",
              "      <th>Is_Active</th>\n",
              "      <th>Is_Lead</th>\n",
              "    </tr>\n",
              "  </thead>\n",
              "  <tbody>\n",
              "    <tr>\n",
              "      <th>0</th>\n",
              "      <td>NNVBBKZB</td>\n",
              "      <td>Female</td>\n",
              "      <td>73</td>\n",
              "      <td>RG268</td>\n",
              "      <td>Other</td>\n",
              "      <td>X3</td>\n",
              "      <td>43</td>\n",
              "      <td>No</td>\n",
              "      <td>1045696</td>\n",
              "      <td>No</td>\n",
              "      <td>0</td>\n",
              "    </tr>\n",
              "    <tr>\n",
              "      <th>1</th>\n",
              "      <td>IDD62UNG</td>\n",
              "      <td>Female</td>\n",
              "      <td>30</td>\n",
              "      <td>RG277</td>\n",
              "      <td>Salaried</td>\n",
              "      <td>X1</td>\n",
              "      <td>32</td>\n",
              "      <td>No</td>\n",
              "      <td>581988</td>\n",
              "      <td>No</td>\n",
              "      <td>0</td>\n",
              "    </tr>\n",
              "    <tr>\n",
              "      <th>2</th>\n",
              "      <td>HD3DSEMC</td>\n",
              "      <td>Female</td>\n",
              "      <td>56</td>\n",
              "      <td>RG268</td>\n",
              "      <td>Self_Employed</td>\n",
              "      <td>X3</td>\n",
              "      <td>26</td>\n",
              "      <td>No</td>\n",
              "      <td>1484315</td>\n",
              "      <td>Yes</td>\n",
              "      <td>0</td>\n",
              "    </tr>\n",
              "  </tbody>\n",
              "</table>\n",
              "</div>"
            ],
            "text/plain": [
              "         ID  Gender  Age  ... Avg_Account_Balance Is_Active Is_Lead\n",
              "0  NNVBBKZB  Female   73  ...             1045696        No       0\n",
              "1  IDD62UNG  Female   30  ...              581988        No       0\n",
              "2  HD3DSEMC  Female   56  ...             1484315       Yes       0\n",
              "\n",
              "[3 rows x 11 columns]"
            ]
          },
          "metadata": {
            "tags": []
          },
          "execution_count": 7
        }
      ]
    },
    {
      "cell_type": "code",
      "metadata": {
        "colab": {
          "base_uri": "https://localhost:8080/",
          "height": 142
        },
        "id": "GjHNBkdYT62o",
        "outputId": "db517eff-3ee2-41c2-f285-0cef683c056d"
      },
      "source": [
        "test.head(3)"
      ],
      "execution_count": 8,
      "outputs": [
        {
          "output_type": "execute_result",
          "data": {
            "text/html": [
              "<div>\n",
              "<style scoped>\n",
              "    .dataframe tbody tr th:only-of-type {\n",
              "        vertical-align: middle;\n",
              "    }\n",
              "\n",
              "    .dataframe tbody tr th {\n",
              "        vertical-align: top;\n",
              "    }\n",
              "\n",
              "    .dataframe thead th {\n",
              "        text-align: right;\n",
              "    }\n",
              "</style>\n",
              "<table border=\"1\" class=\"dataframe\">\n",
              "  <thead>\n",
              "    <tr style=\"text-align: right;\">\n",
              "      <th></th>\n",
              "      <th>ID</th>\n",
              "      <th>Gender</th>\n",
              "      <th>Age</th>\n",
              "      <th>Region_Code</th>\n",
              "      <th>Occupation</th>\n",
              "      <th>Channel_Code</th>\n",
              "      <th>Vintage</th>\n",
              "      <th>Credit_Product</th>\n",
              "      <th>Avg_Account_Balance</th>\n",
              "      <th>Is_Active</th>\n",
              "    </tr>\n",
              "  </thead>\n",
              "  <tbody>\n",
              "    <tr>\n",
              "      <th>0</th>\n",
              "      <td>VBENBARO</td>\n",
              "      <td>Male</td>\n",
              "      <td>29</td>\n",
              "      <td>RG254</td>\n",
              "      <td>Other</td>\n",
              "      <td>X1</td>\n",
              "      <td>25</td>\n",
              "      <td>Yes</td>\n",
              "      <td>742366</td>\n",
              "      <td>No</td>\n",
              "    </tr>\n",
              "    <tr>\n",
              "      <th>1</th>\n",
              "      <td>CCMEWNKY</td>\n",
              "      <td>Male</td>\n",
              "      <td>43</td>\n",
              "      <td>RG268</td>\n",
              "      <td>Other</td>\n",
              "      <td>X2</td>\n",
              "      <td>49</td>\n",
              "      <td>NaN</td>\n",
              "      <td>925537</td>\n",
              "      <td>No</td>\n",
              "    </tr>\n",
              "    <tr>\n",
              "      <th>2</th>\n",
              "      <td>VK3KGA9M</td>\n",
              "      <td>Male</td>\n",
              "      <td>31</td>\n",
              "      <td>RG270</td>\n",
              "      <td>Salaried</td>\n",
              "      <td>X1</td>\n",
              "      <td>14</td>\n",
              "      <td>No</td>\n",
              "      <td>215949</td>\n",
              "      <td>No</td>\n",
              "    </tr>\n",
              "  </tbody>\n",
              "</table>\n",
              "</div>"
            ],
            "text/plain": [
              "         ID Gender  Age  ... Credit_Product Avg_Account_Balance Is_Active\n",
              "0  VBENBARO   Male   29  ...            Yes              742366        No\n",
              "1  CCMEWNKY   Male   43  ...            NaN              925537        No\n",
              "2  VK3KGA9M   Male   31  ...             No              215949        No\n",
              "\n",
              "[3 rows x 10 columns]"
            ]
          },
          "metadata": {
            "tags": []
          },
          "execution_count": 8
        }
      ]
    },
    {
      "cell_type": "code",
      "metadata": {
        "colab": {
          "base_uri": "https://localhost:8080/"
        },
        "id": "_oImTLbA-XAE",
        "outputId": "1a0475b9-4d16-44fb-dee1-7c1d7e08aa1b"
      },
      "source": [
        "train.Is_Lead.value_counts()"
      ],
      "execution_count": 9,
      "outputs": [
        {
          "output_type": "execute_result",
          "data": {
            "text/plain": [
              "0    187437\n",
              "1     58288\n",
              "Name: Is_Lead, dtype: int64"
            ]
          },
          "metadata": {
            "tags": []
          },
          "execution_count": 9
        }
      ]
    },
    {
      "cell_type": "markdown",
      "metadata": {
        "id": "seZxdf_eT62q"
      },
      "source": [
        "### Distribution of target variable\n",
        "* Target variable is `Is_Lead`"
      ]
    },
    {
      "cell_type": "code",
      "metadata": {
        "colab": {
          "base_uri": "https://localhost:8080/",
          "height": 389
        },
        "id": "miPnAXZCT62r",
        "outputId": "7c4f348a-7ed3-4a0a-ad44-2824f85281c4"
      },
      "source": [
        "%matplotlib inline\n",
        "######### Matplotlib ##########\n",
        "# Creating Bar chart as the Target variable is Categorical\n",
        "#GroupedData=train.groupby('Is_Lead').size()\n",
        "#GroupedData.plot(kind='bar', figsize=(4,3))\n",
        "\n",
        "######## Seaborn ##############\n",
        "plt.figure(figsize=(12,6), facecolor='yellow')\n",
        "sns.countplot(train['Is_Lead'], color='black');\n",
        "\n",
        "######### Plotly ##############\n",
        "#fig = go.Figure(data=[go.Histogram(x=train['Is_Lead'])])\n",
        "#fig.update_layout(autosize=False,width=600,height=600)\n",
        "#fig.show()"
      ],
      "execution_count": 10,
      "outputs": [
        {
          "output_type": "display_data",
          "data": {
            "image/png": "[encoded data removed]",
            "text/plain": [
              "<Figure size 864x432 with 1 Axes>"
            ]
          },
          "metadata": {
            "tags": []
          }
        }
      ]
    },
    {
      "cell_type": "markdown",
      "metadata": {
        "id": "hKOo_P5diS_j"
      },
      "source": [
        "**# Remove those variables from data which have too many missing values (Missing Values > 30%)**"
      ]
    },
    {
      "cell_type": "code",
      "metadata": {
        "colab": {
          "base_uri": "https://localhost:8080/"
        },
        "id": "MOpCFRGPT62t",
        "scrolled": false,
        "outputId": "2371b633-6ce5-4a2a-bb30-8aca31790fde"
      },
      "source": [
        "train.info()"
      ],
      "execution_count": 11,
      "outputs": [
        {
          "output_type": "stream",
          "text": [
            "<class 'pandas.core.frame.DataFrame'>\n",
            "Int64Index: 245725 entries, 0 to 245724\n",
            "Data columns (total 11 columns):\n",
            " #   Column               Non-Null Count   Dtype \n",
            "---  ------               --------------   ----- \n",
            " 0   ID                   245725 non-null  object\n",
            " 1   Gender               245725 non-null  object\n",
            " 2   Age                  245725 non-null  int64 \n",
            " 3   Region_Code          245725 non-null  object\n",
            " 4   Occupation           245725 non-null  object\n",
            " 5   Channel_Code         245725 non-null  object\n",
            " 6   Vintage              245725 non-null  int64 \n",
            " 7   Credit_Product       216400 non-null  object\n",
            " 8   Avg_Account_Balance  245725 non-null  int64 \n",
            " 9   Is_Active            245725 non-null  object\n",
            " 10  Is_Lead              245725 non-null  int64 \n",
            "dtypes: int64(4), object(7)\n",
            "memory usage: 32.5+ MB\n"
          ],
          "name": "stdout"
        }
      ]
    },
    {
      "cell_type": "code",
      "metadata": {
        "colab": {
          "base_uri": "https://localhost:8080/"
        },
        "id": "XFoepe0nT62v",
        "outputId": "4789dfed-5074-49b5-af1a-d4abf2322606"
      },
      "source": [
        "test.info()"
      ],
      "execution_count": 12,
      "outputs": [
        {
          "output_type": "stream",
          "text": [
            "<class 'pandas.core.frame.DataFrame'>\n",
            "Int64Index: 105312 entries, 0 to 105311\n",
            "Data columns (total 10 columns):\n",
            " #   Column               Non-Null Count   Dtype \n",
            "---  ------               --------------   ----- \n",
            " 0   ID                   105312 non-null  object\n",
            " 1   Gender               105312 non-null  object\n",
            " 2   Age                  105312 non-null  int64 \n",
            " 3   Region_Code          105312 non-null  object\n",
            " 4   Occupation           105312 non-null  object\n",
            " 5   Channel_Code         105312 non-null  object\n",
            " 6   Vintage              105312 non-null  int64 \n",
            " 7   Credit_Product       92790 non-null   object\n",
            " 8   Avg_Account_Balance  105312 non-null  int64 \n",
            " 9   Is_Active            105312 non-null  object\n",
            "dtypes: int64(3), object(7)\n",
            "memory usage: 8.8+ MB\n"
          ],
          "name": "stdout"
        }
      ]
    },
    {
      "cell_type": "code",
      "metadata": {
        "colab": {
          "base_uri": "https://localhost:8080/",
          "height": 494
        },
        "id": "avS5GnLbisUf",
        "outputId": "5eac9d91-3a4d-4057-e08b-7485a760e205"
      },
      "source": [
        "train_cols = train.columns \n",
        "test_cols = test.columns\n",
        "colours = ['g', 'r'] \n",
        "f, ax = plt.subplots(nrows=1,ncols=2,figsize = (20,6))\n",
        "ax[0].set_title('Test Missing Data', color='red',size=20,weight='bold')\n",
        "ax[1].set_title('Train Missing Data',color='red',size=20,weight='bold')\n",
        "sns.set_style(\"whitegrid\")\n",
        "sns.heatmap(test[test_cols].isnull(), cmap=sns.color_palette(colours),ax=ax[0],cbar=False)\n",
        "sns.heatmap(train[train_cols].isnull(), cmap=sns.color_palette(colours),ax=ax[1],cbar=False);"
      ],
      "execution_count": 13,
      "outputs": [
        {
          "output_type": "display_data",
          "data": {
            "image/png": "[encoded data removed]",
            "text/plain": [
              "<Figure size 1440x432 with 2 Axes>"
            ]
          },
          "metadata": {
            "tags": [],
            "needs_background": "light"
          }
        }
      ]
    },
    {
      "cell_type": "code",
      "metadata": {
        "colab": {
          "base_uri": "https://localhost:8080/"
        },
        "id": "1dpkgeVOzRn6",
        "outputId": "c18bc851-0f62-48ab-9fd7-d4efb8cbb1f1"
      },
      "source": [
        "#### Percent of missing values in train dataset\n",
        "for col in train.columns:\n",
        "    prct = np.mean(train[col].isnull())\n",
        "    print('{} : {} %'.format(col, round(prct*100,1)))"
      ],
      "execution_count": 14,
      "outputs": [
        {
          "output_type": "stream",
          "text": [
            "ID : 0.0 %\n",
            "Gender : 0.0 %\n",
            "Age : 0.0 %\n",
            "Region_Code : 0.0 %\n",
            "Occupation : 0.0 %\n",
            "Channel_Code : 0.0 %\n",
            "Vintage : 0.0 %\n",
            "Credit_Product : 11.9 %\n",
            "Avg_Account_Balance : 0.0 %\n",
            "Is_Active : 0.0 %\n",
            "Is_Lead : 0.0 %\n"
          ],
          "name": "stdout"
        }
      ]
    },
    {
      "cell_type": "code",
      "metadata": {
        "colab": {
          "base_uri": "https://localhost:8080/"
        },
        "id": "FCb11Q0N1x8r",
        "outputId": "58d0f057-4617-4101-a8a3-95dcd818f3d2"
      },
      "source": [
        "#### Percent of missing values in test dataset\n",
        "for col in test.columns:\n",
        "    prct = np.mean(test[col].isnull())\n",
        "    print('{} : {} %'.format(col, round(prct*100,1)))"
      ],
      "execution_count": 15,
      "outputs": [
        {
          "output_type": "stream",
          "text": [
            "ID : 0.0 %\n",
            "Gender : 0.0 %\n",
            "Age : 0.0 %\n",
            "Region_Code : 0.0 %\n",
            "Occupation : 0.0 %\n",
            "Channel_Code : 0.0 %\n",
            "Vintage : 0.0 %\n",
            "Credit_Product : 11.9 %\n",
            "Avg_Account_Balance : 0.0 %\n",
            "Is_Active : 0.0 %\n"
          ],
          "name": "stdout"
        }
      ]
    },
    {
      "cell_type": "code",
      "metadata": {
        "colab": {
          "base_uri": "https://localhost:8080/",
          "height": 390
        },
        "id": "n7YmCGETT62y",
        "outputId": "a780a80f-4d56-4e95-dce7-c257b0bf2bd4"
      },
      "source": [
        "# Looking at the descriptive statistics of the data\n",
        "train.describe(include='all')"
      ],
      "execution_count": 16,
      "outputs": [
        {
          "output_type": "execute_result",
          "data": {
            "text/html": [
              "<div>\n",
              "<style scoped>\n",
              "    .dataframe tbody tr th:only-of-type {\n",
              "        vertical-align: middle;\n",
              "    }\n",
              "\n",
              "    .dataframe tbody tr th {\n",
              "        vertical-align: top;\n",
              "    }\n",
              "\n",
              "    .dataframe thead th {\n",
              "        text-align: right;\n",
              "    }\n",
              "</style>\n",
              "<table border=\"1\" class=\"dataframe\">\n",
              "  <thead>\n",
              "    <tr style=\"text-align: right;\">\n",
              "      <th></th>\n",
              "      <th>ID</th>\n",
              "      <th>Gender</th>\n",
              "      <th>Age</th>\n",
              "      <th>Region_Code</th>\n",
              "      <th>Occupation</th>\n",
              "      <th>Channel_Code</th>\n",
              "      <th>Vintage</th>\n",
              "      <th>Credit_Product</th>\n",
              "      <th>Avg_Account_Balance</th>\n",
              "      <th>Is_Active</th>\n",
              "      <th>Is_Lead</th>\n",
              "    </tr>\n",
              "  </thead>\n",
              "  <tbody>\n",
              "    <tr>\n",
              "      <th>count</th>\n",
              "      <td>245725</td>\n",
              "      <td>245725</td>\n",
              "      <td>245725.000000</td>\n",
              "      <td>245725</td>\n",
              "      <td>245725</td>\n",
              "      <td>245725</td>\n",
              "      <td>245725.000000</td>\n",
              "      <td>216400</td>\n",
              "      <td>2.457250e+05</td>\n",
              "      <td>245725</td>\n",
              "      <td>245725.000000</td>\n",
              "    </tr>\n",
              "    <tr>\n",
              "      <th>unique</th>\n",
              "      <td>245725</td>\n",
              "      <td>2</td>\n",
              "      <td>NaN</td>\n",
              "      <td>35</td>\n",
              "      <td>4</td>\n",
              "      <td>4</td>\n",
              "      <td>NaN</td>\n",
              "      <td>2</td>\n",
              "      <td>NaN</td>\n",
              "      <td>2</td>\n",
              "      <td>NaN</td>\n",
              "    </tr>\n",
              "    <tr>\n",
              "      <th>top</th>\n",
              "      <td>AW4VU6B4</td>\n",
              "      <td>Male</td>\n",
              "      <td>NaN</td>\n",
              "      <td>RG268</td>\n",
              "      <td>Self_Employed</td>\n",
              "      <td>X1</td>\n",
              "      <td>NaN</td>\n",
              "      <td>No</td>\n",
              "      <td>NaN</td>\n",
              "      <td>No</td>\n",
              "      <td>NaN</td>\n",
              "    </tr>\n",
              "    <tr>\n",
              "      <th>freq</th>\n",
              "      <td>1</td>\n",
              "      <td>134197</td>\n",
              "      <td>NaN</td>\n",
              "      <td>35934</td>\n",
              "      <td>100886</td>\n",
              "      <td>103718</td>\n",
              "      <td>NaN</td>\n",
              "      <td>144357</td>\n",
              "      <td>NaN</td>\n",
              "      <td>150290</td>\n",
              "      <td>NaN</td>\n",
              "    </tr>\n",
              "    <tr>\n",
              "      <th>mean</th>\n",
              "      <td>NaN</td>\n",
              "      <td>NaN</td>\n",
              "      <td>43.856307</td>\n",
              "      <td>NaN</td>\n",
              "      <td>NaN</td>\n",
              "      <td>NaN</td>\n",
              "      <td>46.959141</td>\n",
              "      <td>NaN</td>\n",
              "      <td>1.128403e+06</td>\n",
              "      <td>NaN</td>\n",
              "      <td>0.237208</td>\n",
              "    </tr>\n",
              "    <tr>\n",
              "      <th>std</th>\n",
              "      <td>NaN</td>\n",
              "      <td>NaN</td>\n",
              "      <td>14.828672</td>\n",
              "      <td>NaN</td>\n",
              "      <td>NaN</td>\n",
              "      <td>NaN</td>\n",
              "      <td>32.353136</td>\n",
              "      <td>NaN</td>\n",
              "      <td>8.529364e+05</td>\n",
              "      <td>NaN</td>\n",
              "      <td>0.425372</td>\n",
              "    </tr>\n",
              "    <tr>\n",
              "      <th>min</th>\n",
              "      <td>NaN</td>\n",
              "      <td>NaN</td>\n",
              "      <td>23.000000</td>\n",
              "      <td>NaN</td>\n",
              "      <td>NaN</td>\n",
              "      <td>NaN</td>\n",
              "      <td>7.000000</td>\n",
              "      <td>NaN</td>\n",
              "      <td>2.079000e+04</td>\n",
              "      <td>NaN</td>\n",
              "      <td>0.000000</td>\n",
              "    </tr>\n",
              "    <tr>\n",
              "      <th>25%</th>\n",
              "      <td>NaN</td>\n",
              "      <td>NaN</td>\n",
              "      <td>30.000000</td>\n",
              "      <td>NaN</td>\n",
              "      <td>NaN</td>\n",
              "      <td>NaN</td>\n",
              "      <td>20.000000</td>\n",
              "      <td>NaN</td>\n",
              "      <td>6.043100e+05</td>\n",
              "      <td>NaN</td>\n",
              "      <td>0.000000</td>\n",
              "    </tr>\n",
              "    <tr>\n",
              "      <th>50%</th>\n",
              "      <td>NaN</td>\n",
              "      <td>NaN</td>\n",
              "      <td>43.000000</td>\n",
              "      <td>NaN</td>\n",
              "      <td>NaN</td>\n",
              "      <td>NaN</td>\n",
              "      <td>32.000000</td>\n",
              "      <td>NaN</td>\n",
              "      <td>8.946010e+05</td>\n",
              "      <td>NaN</td>\n",
              "      <td>0.000000</td>\n",
              "    </tr>\n",
              "    <tr>\n",
              "      <th>75%</th>\n",
              "      <td>NaN</td>\n",
              "      <td>NaN</td>\n",
              "      <td>54.000000</td>\n",
              "      <td>NaN</td>\n",
              "      <td>NaN</td>\n",
              "      <td>NaN</td>\n",
              "      <td>73.000000</td>\n",
              "      <td>NaN</td>\n",
              "      <td>1.366666e+06</td>\n",
              "      <td>NaN</td>\n",
              "      <td>0.000000</td>\n",
              "    </tr>\n",
              "    <tr>\n",
              "      <th>max</th>\n",
              "      <td>NaN</td>\n",
              "      <td>NaN</td>\n",
              "      <td>85.000000</td>\n",
              "      <td>NaN</td>\n",
              "      <td>NaN</td>\n",
              "      <td>NaN</td>\n",
              "      <td>135.000000</td>\n",
              "      <td>NaN</td>\n",
              "      <td>1.035201e+07</td>\n",
              "      <td>NaN</td>\n",
              "      <td>1.000000</td>\n",
              "    </tr>\n",
              "  </tbody>\n",
              "</table>\n",
              "</div>"
            ],
            "text/plain": [
              "              ID  Gender  ...  Is_Active        Is_Lead\n",
              "count     245725  245725  ...     245725  245725.000000\n",
              "unique    245725       2  ...          2            NaN\n",
              "top     AW4VU6B4    Male  ...         No            NaN\n",
              "freq           1  134197  ...     150290            NaN\n",
              "mean         NaN     NaN  ...        NaN       0.237208\n",
              "std          NaN     NaN  ...        NaN       0.425372\n",
              "min          NaN     NaN  ...        NaN       0.000000\n",
              "25%          NaN     NaN  ...        NaN       0.000000\n",
              "50%          NaN     NaN  ...        NaN       0.000000\n",
              "75%          NaN     NaN  ...        NaN       0.000000\n",
              "max          NaN     NaN  ...        NaN       1.000000\n",
              "\n",
              "[11 rows x 11 columns]"
            ]
          },
          "metadata": {
            "tags": []
          },
          "execution_count": 16
        }
      ]
    },
    {
      "cell_type": "code",
      "metadata": {
        "colab": {
          "base_uri": "https://localhost:8080/"
        },
        "id": "24xCEmSZT621",
        "outputId": "57027c23-084b-4535-a8a2-f8503e9bbdeb"
      },
      "source": [
        "# Finging unique values for each column\n",
        "# TO understand which column is categorical and which one is Continuous\n",
        "# Typically if the numer of unique values are < 20 then the variable is likely to be a category otherwise continuous\n",
        "for i in [train, test]:\n",
        "    print(i.nunique(),'\\n')\n",
        "    "
      ],
      "execution_count": 17,
      "outputs": [
        {
          "output_type": "stream",
          "text": [
            "ID                     245725\n",
            "Gender                      2\n",
            "Age                        63\n",
            "Region_Code                35\n",
            "Occupation                  4\n",
            "Channel_Code                4\n",
            "Vintage                    66\n",
            "Credit_Product              2\n",
            "Avg_Account_Balance    135292\n",
            "Is_Active                   2\n",
            "Is_Lead                     2\n",
            "dtype: int64 \n",
            "\n",
            "ID                     105312\n",
            "Gender                      2\n",
            "Age                        62\n",
            "Region_Code                35\n",
            "Occupation                  4\n",
            "Channel_Code                4\n",
            "Vintage                    66\n",
            "Credit_Product              2\n",
            "Avg_Account_Balance     78315\n",
            "Is_Active                   2\n",
            "dtype: int64 \n",
            "\n"
          ],
          "name": "stdout"
        }
      ]
    },
    {
      "cell_type": "code",
      "metadata": {
        "colab": {
          "base_uri": "https://localhost:8080/"
        },
        "id": "0vUPdwFeT622",
        "outputId": "be503c6c-c9dc-44c8-c57d-9cb0d4ea33eb"
      },
      "source": [
        "print(train.Credit_Product.unique())\n",
        "print(test.Credit_Product.unique()) "
      ],
      "execution_count": 18,
      "outputs": [
        {
          "output_type": "stream",
          "text": [
            "['No' nan 'Yes']\n",
            "['Yes' nan 'No']\n"
          ],
          "name": "stdout"
        }
      ]
    },
    {
      "cell_type": "code",
      "metadata": {
        "id": "piFR2HDnmmXl"
      },
      "source": [
        "train.drop(['ID','Region_Code'], axis=1, inplace=True)"
      ],
      "execution_count": 19,
      "outputs": []
    },
    {
      "cell_type": "code",
      "metadata": {
        "colab": {
          "base_uri": "https://localhost:8080/"
        },
        "id": "D7uUGrAET624",
        "outputId": "94baa90b-9c7d-4a91-d798-dc725d14bbcd"
      },
      "source": [
        "for i in train.columns:\n",
        "    print(i,' : ' ,train[i].unique(),'\\n')"
      ],
      "execution_count": 20,
      "outputs": [
        {
          "output_type": "stream",
          "text": [
            "Gender  :  ['Female' 'Male'] \n",
            "\n",
            "Age  :  [73 30 56 34 62 48 40 55 53 27 31 79 33 46 59 65 37 44 32 50 70 25 52 26\n",
            " 67 29 41 49 63 61 64 60 76 57 36 28 58 43 35 71 82 45 42 54 47 78 51 68\n",
            " 83 39 84 24 38 74 81 69 75 85 66 80 72 77 23] \n",
            "\n",
            "Occupation  :  ['Other' 'Salaried' 'Self_Employed' 'Entrepreneur'] \n",
            "\n",
            "Channel_Code  :  ['X3' 'X1' 'X2' 'X4'] \n",
            "\n",
            "Vintage  :  [ 43  32  26  19  33  20  13  38  49 123  14  31  57  69  97  15  63  21\n",
            "  99  56  87  62  55 103 104  93  61  91  27  39  50  45  25 117  80  81\n",
            "  73  67 109  92 122  75  79 121 111 116  85 115  86  37  74 110  44   9\n",
            "  68  51  98 105 127 129 133   8   7 128 135 134] \n",
            "\n",
            "Credit_Product  :  ['No' nan 'Yes'] \n",
            "\n",
            "Avg_Account_Balance  :  [1045696  581988 1484315 ...  368949 1925586 1129276] \n",
            "\n",
            "Is_Active  :  ['No' 'Yes'] \n",
            "\n",
            "Is_Lead  :  [0 1] \n",
            "\n"
          ],
          "name": "stdout"
        }
      ]
    },
    {
      "cell_type": "code",
      "metadata": {
        "colab": {
          "base_uri": "https://localhost:8080/"
        },
        "id": "nQ0GQRI8pd9i",
        "outputId": "b0095395-96c3-4b78-c8c9-d6065be783b9"
      },
      "source": [
        "train.columns"
      ],
      "execution_count": 21,
      "outputs": [
        {
          "output_type": "execute_result",
          "data": {
            "text/plain": [
              "Index(['Gender', 'Age', 'Occupation', 'Channel_Code', 'Vintage',\n",
              "       'Credit_Product', 'Avg_Account_Balance', 'Is_Active', 'Is_Lead'],\n",
              "      dtype='object')"
            ]
          },
          "metadata": {
            "tags": []
          },
          "execution_count": 21
        }
      ]
    },
    {
      "cell_type": "markdown",
      "metadata": {
        "id": "Xghc7vY1T627"
      },
      "source": [
        "# Visual Exploratory Data Analysis\n",
        "* Categorical variables: Bar plot\n",
        "* Continuous variables: Histogram"
      ]
    },
    {
      "cell_type": "code",
      "metadata": {
        "id": "RDj_vCDpT628"
      },
      "source": [
        "cat_var = ['Gender', 'Occupation', 'Channel_Code', 'Credit_Product', 'Is_Active']\n",
        "cont_var = ['Age','Vintage','Avg_Account_Balance']"
      ],
      "execution_count": 22,
      "outputs": []
    },
    {
      "cell_type": "code",
      "metadata": {
        "id": "7TbsLUYDT629",
        "scrolled": false
      },
      "source": [
        "# Plotting multiple bar charts at once for categorical variables\n",
        "# Since there is no default function which can plot bar charts for multiple columns at once\n",
        "# we are defining our own function for the same\n",
        "\n",
        "def PlotBarCharts(inpData, colsToPlot):\n",
        "    %matplotlib inline\n",
        "    \n",
        "    import matplotlib.pyplot as plt\n",
        "    \n",
        "    # Generating multiple subplots\n",
        "    fig, ax=plt.subplots(nrows=1, ncols=len(colsToPlot), figsize=(20,8))\n",
        "    fig.autofmt_xdate(rotation=45)  ########  Rotation of ticks\n",
        "    \n",
        "\n",
        "    for colName, plotNumber in zip(colsToPlot, range(len(colsToPlot))):\n",
        "        ax[plotNumber].set_title(colName,fontsize=18,color='#894512')           #####  Set title for each subplot\n",
        "        ax[plotNumber].tick_params(axis='both', labelsize=14 )                  ###### Increase ticklabel size of x and y axis\n",
        "        sns.countplot(data=inpData, x=colName,ax=ax[plotNumber])                #####  (seaborn)\n",
        "        #inpData.groupby(colName).size().plot(kind='bar',ax=ax[plotNumber])     ### working same as above line (pandas)\n",
        "        plt.tight_layout()                                                      ######## Fix layout problems\n",
        "        "
      ],
      "execution_count": 23,
      "outputs": []
    },
    {
      "cell_type": "code",
      "metadata": {
        "colab": {
          "base_uri": "https://localhost:8080/",
          "height": 510
        },
        "id": "ITAelfXLT62-",
        "outputId": "8e024673-92a4-402d-bb30-fc0f3ec6cdbd"
      },
      "source": [
        "#####################################################################\n",
        "# Calling the function\n",
        "PlotBarCharts(inpData=train, colsToPlot=cat_var)"
      ],
      "execution_count": 24,
      "outputs": [
        {
          "output_type": "display_data",
          "data": {
            "image/png": "[encoded data removed]",
            "text/plain": [
              "<Figure size 1440x576 with 5 Axes>"
            ]
          },
          "metadata": {
            "tags": [],
            "needs_background": "light"
          }
        }
      ]
    },
    {
      "cell_type": "code",
      "metadata": {
        "colab": {
          "base_uri": "https://localhost:8080/",
          "height": 1000
        },
        "id": "OIZTKoN6T63B",
        "scrolled": false,
        "outputId": "e9c39725-f108-4af1-8331-ca54db1d2214"
      },
      "source": [
        "# Plotting histograms of multiple columns together\n",
        "# Observe that ApplicantIncome and CoapplicantIncome has outliers\n",
        "for col in cont_var:\n",
        "  fig, ax = plt.subplots(figsize=(12,7))\n",
        "  ax.hist(train[col])\n",
        "  plt.title(col, fontdict={'fontsize':16})\n",
        "  plt.xlim(np.min(train[col]), np.max(train[col]) + 10)\n",
        "  plt.xlabel(col, fontdict={'fontsize':14})\n",
        "  plt.ylabel(\"count\", fontdict={'fontsize':14})\n",
        "  ax.ticklabel_format(axis=\"x\", style=\"plain\")\n",
        "  plt.show();\n"
      ],
      "execution_count": 25,
      "outputs": [
        {
          "output_type": "display_data",
          "data": {
            "image/png": "[encoded data removed]",
            "text/plain": [
              "<Figure size 864x504 with 1 Axes>"
            ]
          },
          "metadata": {
            "tags": [],
            "needs_background": "light"
          }
        },
        {
          "output_type": "display_data",
          "data": {
            "image/png": "[encoded data removed]",
            "text/plain": [
              "<Figure size 864x504 with 1 Axes>"
            ]
          },
          "metadata": {
            "tags": [],
            "needs_background": "light"
          }
        },
        {
          "output_type": "display_data",
          "data": {
            "image/png": "[encoded data removed]",
            "text/plain": [
              "<Figure size 864x504 with 1 Axes>"
            ]
          },
          "metadata": {
            "tags": [],
            "needs_background": "light"
          }
        }
      ]
    },
    {
      "cell_type": "markdown",
      "metadata": {
        "id": "T4Vc1NSmsj08"
      },
      "source": [
        "**In \"Avg_Account_Balance outliers after 5000000**"
      ]
    },
    {
      "cell_type": "code",
      "metadata": {
        "colab": {
          "base_uri": "https://localhost:8080/"
        },
        "id": "SxalEJ72h1-Y",
        "outputId": "764ea5e5-be5c-402c-ed91-8c1f2b3f416d"
      },
      "source": [
        "########  Avg_Account_Balance Greater than 4000000 \n",
        "Avg_Account_Balance_G_T_4000000 = train[train['Avg_Account_Balance']>5000000].sort_values(by='Avg_Account_Balance',ascending=False).shape[0]\n",
        "Avg_Account_Balance_G_T_4000000"
      ],
      "execution_count": 26,
      "outputs": [
        {
          "output_type": "execute_result",
          "data": {
            "text/plain": [
              "1762"
            ]
          },
          "metadata": {
            "tags": []
          },
          "execution_count": 26
        }
      ]
    },
    {
      "cell_type": "code",
      "metadata": {
        "id": "J01iw-GPo_Rg"
      },
      "source": [
        "train['Avg_Account_Balance'][train['Avg_Account_Balance']>5000000] = np.mean(train['Avg_Account_Balance'])"
      ],
      "execution_count": 27,
      "outputs": []
    },
    {
      "cell_type": "code",
      "metadata": {
        "colab": {
          "base_uri": "https://localhost:8080/",
          "height": 464
        },
        "id": "0OqyCofZT63E",
        "outputId": "3752f305-644c-48ab-a156-1871d84ca241"
      },
      "source": [
        "######## handling outliers in Avg_Account_Balance\n",
        "import matplotlib.pyplot as plt\n",
        "\n",
        "fig, ax = plt.subplots(figsize=(12,7))\n",
        "ax.hist(train.Avg_Account_Balance)\n",
        "plt.title(\"Avg_Account_Balance after handling outliers\", fontdict={'fontsize':16})\n",
        "plt.xlabel(\"Balance\", fontdict={'fontsize':14})\n",
        "plt.ylabel(\"No. of Persons\", fontdict={'fontsize':14})\n",
        "ax.ticklabel_format(axis=\"x\", style=\"plain\")\n",
        "plt.show();"
      ],
      "execution_count": 28,
      "outputs": [
        {
          "output_type": "display_data",
          "data": {
            "image/png": "[encoded data removed]",
            "text/plain": [
              "<Figure size 864x504 with 1 Axes>"
            ]
          },
          "metadata": {
            "tags": [],
            "needs_background": "light"
          }
        }
      ]
    },
    {
      "cell_type": "code",
      "metadata": {
        "colab": {
          "base_uri": "https://localhost:8080/"
        },
        "id": "-Q0myix7T63Z",
        "outputId": "d430e72d-5be1-4de0-c571-81a0b2e12ac2"
      },
      "source": [
        "# Finding how many missing values\n",
        "print(train.isna().sum(),'\\n\\n')\n",
        "\n",
        "test.isnull().sum()"
      ],
      "execution_count": 29,
      "outputs": [
        {
          "output_type": "stream",
          "text": [
            "Gender                     0\n",
            "Age                        0\n",
            "Occupation                 0\n",
            "Channel_Code               0\n",
            "Vintage                    0\n",
            "Credit_Product         29325\n",
            "Avg_Account_Balance        0\n",
            "Is_Active                  0\n",
            "Is_Lead                    0\n",
            "dtype: int64 \n",
            "\n",
            "\n"
          ],
          "name": "stdout"
        },
        {
          "output_type": "execute_result",
          "data": {
            "text/plain": [
              "ID                         0\n",
              "Gender                     0\n",
              "Age                        0\n",
              "Region_Code                0\n",
              "Occupation                 0\n",
              "Channel_Code               0\n",
              "Vintage                    0\n",
              "Credit_Product         12522\n",
              "Avg_Account_Balance        0\n",
              "Is_Active                  0\n",
              "dtype: int64"
            ]
          },
          "metadata": {
            "tags": []
          },
          "execution_count": 29
        }
      ]
    },
    {
      "cell_type": "markdown",
      "metadata": {
        "id": "eypcl-W8T63a"
      },
      "source": [
        "I am using Median and Mode value for the missing value replacement"
      ]
    },
    {
      "cell_type": "code",
      "metadata": {
        "id": "qpvuWVKJT63c"
      },
      "source": [
        "# Replacing missing values of Credit_Product of train with mode value\n",
        "train['Credit_Product'].fillna(train['Credit_Product'].mode()[0], inplace=True)\n",
        "\n",
        "# Replacing missing values of Credit_Product of test with Mode value\n",
        "test['Credit_Product'].fillna(test['Credit_Product'].mode()[0], inplace=True)"
      ],
      "execution_count": 30,
      "outputs": []
    },
    {
      "cell_type": "code",
      "metadata": {
        "colab": {
          "base_uri": "https://localhost:8080/"
        },
        "id": "Uf4AsQEtT63d",
        "scrolled": true,
        "outputId": "8bb3e0a9-86b2-43c4-f2f0-2f579a3c516d"
      },
      "source": [
        "# Checking missing values again after the treatment\n",
        "print(train.isnull().sum(),'\\n')\n",
        "test.isnull().sum()"
      ],
      "execution_count": 31,
      "outputs": [
        {
          "output_type": "stream",
          "text": [
            "Gender                 0\n",
            "Age                    0\n",
            "Occupation             0\n",
            "Channel_Code           0\n",
            "Vintage                0\n",
            "Credit_Product         0\n",
            "Avg_Account_Balance    0\n",
            "Is_Active              0\n",
            "Is_Lead                0\n",
            "dtype: int64 \n",
            "\n"
          ],
          "name": "stdout"
        },
        {
          "output_type": "execute_result",
          "data": {
            "text/plain": [
              "ID                     0\n",
              "Gender                 0\n",
              "Age                    0\n",
              "Region_Code            0\n",
              "Occupation             0\n",
              "Channel_Code           0\n",
              "Vintage                0\n",
              "Credit_Product         0\n",
              "Avg_Account_Balance    0\n",
              "Is_Active              0\n",
              "dtype: int64"
            ]
          },
          "metadata": {
            "tags": []
          },
          "execution_count": 31
        }
      ]
    },
    {
      "cell_type": "code",
      "metadata": {
        "id": "4_DDJ9CMscd8"
      },
      "source": [
        "### \"continous variable\" list\n",
        "cont_var = ['Age','Avg_Account_Balance', 'Vintage']"
      ],
      "execution_count": 32,
      "outputs": []
    },
    {
      "cell_type": "code",
      "metadata": {
        "colab": {
          "base_uri": "https://localhost:8080/",
          "height": 362
        },
        "id": "SyMOfnqRT63h",
        "outputId": "75e9db8d-f25e-4db9-a188-66918cc64eda"
      },
      "source": [
        "# Box plots for Categorical Target Variable \"Survived\" and continuous predictors\n",
        "import matplotlib.style as style\n",
        "\n",
        "style.use('fivethirtyeight')\n",
        "fig, ax=plt.subplots(nrows=1, ncols=len(cont_var), figsize=(18,5))\n",
        "\n",
        "# Creating box plots for each continuous predictor against the Target Variable \"Is_Lead\"\n",
        "for i, PredictorCol in enumerate(cont_var):\n",
        "    train.boxplot(column=PredictorCol, by='Is_Lead', figsize=(5,5), vert=True, ax=ax[i])\n",
        "    ax[i].ticklabel_format(axis='y', style='plain')\n",
        "    plt.suptitle(\"\")\n"
      ],
      "execution_count": 33,
      "outputs": [
        {
          "output_type": "display_data",
          "data": {
            "image/png": "[encoded data removed]",
            "text/plain": [
              "<Figure size 1296x360 with 3 Axes>"
            ]
          },
          "metadata": {
            "tags": []
          }
        }
      ]
    },
    {
      "cell_type": "markdown",
      "metadata": {
        "id": "wW01ksHOT63j",
        "scrolled": true
      },
      "source": [
        "<b>If the distribution looks similar for each category(Boxes are in the same line), that means the the continuous variable has NO effect on the target variable. Hence, the variables are not correlated to each other.</b>\n"
      ]
    },
    {
      "cell_type": "markdown",
      "metadata": {
        "id": "Rbt8poWVT63k"
      },
      "source": [
        "Analysis of variance(ANOVA) is performed to check if there is any relationship between the given continuous and categorical variable\n",
        "* Assumption(H0): There is NO relation between the given variables (i.e. The average(mean) values of the numeric Predictor variable is same for all the groups in the categorical Target variable)\n"
      ]
    },
    {
      "cell_type": "code",
      "metadata": {
        "id": "L5Np_vOZT63l"
      },
      "source": [
        "# Defining a function to find the statistical relationship with all the categorical variables\n",
        "def FunctionAnova(inpData, TargetVariable, cont_variables):\n",
        "    from scipy.stats import f_oneway\n",
        "\n",
        "    # Creating an empty list of final selected predictors\n",
        "    SelectedPredictors=[]\n",
        "    \n",
        "    print('##### ANOVA Results ##### \\n')\n",
        "    for predictor in cont_variables:\n",
        "        CategoryGroupLists=inpData.groupby(TargetVariable)[predictor].apply(list)\n",
        "        AnovaResults = f_oneway(*CategoryGroupLists)\n",
        "        \n",
        "        # If the ANOVA P-Value is <0.05, that means we reject H0\n",
        "        if (AnovaResults[1] < 0.05):\n",
        "            print(predictor, 'is correlated with', TargetVariable, '| P-Value:', AnovaResults[1])\n",
        "            SelectedPredictors.append(predictor)\n",
        "        else:\n",
        "            print(predictor, 'is NOT correlated with', TargetVariable, '| P-Value:', AnovaResults[1])\n",
        "    \n",
        "    return(SelectedPredictors)"
      ],
      "execution_count": 34,
      "outputs": []
    },
    {
      "cell_type": "code",
      "metadata": {
        "colab": {
          "base_uri": "https://localhost:8080/"
        },
        "id": "Ztu2oi7ZT63m",
        "outputId": "390a1e56-9688-47a4-c67d-dade5ecf23e0"
      },
      "source": [
        "# Calling the function to check which categorical variables are correlated with target\n",
        "ContinuousVariables=cont_var\n",
        "FunctionAnova(inpData=train, TargetVariable='Is_Lead', cont_variables=ContinuousVariables)"
      ],
      "execution_count": 35,
      "outputs": [
        {
          "output_type": "stream",
          "text": [
            "##### ANOVA Results ##### \n",
            "\n",
            "Age is correlated with Is_Lead | P-Value: 0.0\n",
            "Avg_Account_Balance is correlated with Is_Lead | P-Value: 9.023649289114213e-215\n",
            "Vintage is correlated with Is_Lead | P-Value: 0.0\n"
          ],
          "name": "stdout"
        },
        {
          "output_type": "execute_result",
          "data": {
            "text/plain": [
              "['Age', 'Avg_Account_Balance', 'Vintage']"
            ]
          },
          "metadata": {
            "tags": []
          },
          "execution_count": 35
        }
      ]
    },
    {
      "cell_type": "code",
      "metadata": {
        "colab": {
          "base_uri": "https://localhost:8080/",
          "height": 1000
        },
        "id": "ezwGJ46hT63p",
        "scrolled": false,
        "outputId": "62559c5d-8d80-4312-a8c8-adc9b9e4f741"
      },
      "source": [
        "# Visual Inference using Grouped Bar charts\n",
        "CategoricalColsList = cat_var\n",
        "\n",
        "import matplotlib.pyplot as plt\n",
        "fig, PlotCanvas = plt.subplots(nrows=len(CategoricalColsList), ncols=1, figsize=(10,30))\n",
        "# Creating Grouped bar plots for each categorical predictor against the Target Variable \"Survived\"\n",
        "for CategoricalCol , i in zip(CategoricalColsList, range(len(CategoricalColsList))):\n",
        "    CrossTabResult = pd.crosstab(index=train[CategoricalCol], columns=train['Is_Lead'])\n",
        "    CrossTabResult.plot.bar(color=['red','green'], ax=PlotCanvas[i], title=CategoricalCol+' Vs '+'Is_Lead')\n",
        "    plt.tight_layout()"
      ],
      "execution_count": 36,
      "outputs": [
        {
          "output_type": "display_data",
          "data": {
            "image/png": "[encoded data removed]",
            "text/plain": [
              "<Figure size 720x2160 with 5 Axes>"
            ]
          },
          "metadata": {
            "tags": []
          }
        }
      ]
    },
    {
      "cell_type": "code",
      "metadata": {
        "id": "xyl0l_Y5T63s"
      },
      "source": [
        "# Writing a function to find the correlation of all categorical variables with the Target variable\n",
        "def FunctionChisq(inpData, TargetVariable, CategoricalVariablesList):\n",
        "    from scipy.stats import chi2_contingency\n",
        "    \n",
        "    # Creating an empty list of final selected predictors\n",
        "    SelectedPredictors=[]\n",
        "\n",
        "    for predictor in CategoricalVariablesList:\n",
        "        CrossTabResult=pd.crosstab(index=inpData[TargetVariable], columns=inpData[predictor])\n",
        "        ChiSqResult = chi2_contingency(CrossTabResult)\n",
        "        \n",
        "        # If the ChiSq P-Value is <0.05, that means we reject H0\n",
        "        if (ChiSqResult[1] < 0.05):\n",
        "            print(predictor, 'is correlated with', TargetVariable, '| P-Value:', ChiSqResult[1])\n",
        "            SelectedPredictors.append(predictor)\n",
        "        else:\n",
        "            print(predictor, 'is NOT correlated with', TargetVariable, '| P-Value:', ChiSqResult[1])        \n",
        "            \n",
        "    return(SelectedPredictors)"
      ],
      "execution_count": 37,
      "outputs": []
    },
    {
      "cell_type": "code",
      "metadata": {
        "colab": {
          "base_uri": "https://localhost:8080/"
        },
        "id": "TeoVh8NnT63t",
        "outputId": "b4cf7437-7148-42a9-d73c-89f868903f74"
      },
      "source": [
        "CategoricalVariables=cat_var\n",
        "\n",
        "# Calling the function\n",
        "FunctionChisq(inpData=train, \n",
        "              TargetVariable='Is_Lead',\n",
        "              CategoricalVariablesList= CategoricalVariables)"
      ],
      "execution_count": 38,
      "outputs": [
        {
          "output_type": "stream",
          "text": [
            "Gender is correlated with Is_Lead | P-Value: 1.949380935011988e-279\n",
            "Occupation is correlated with Is_Lead | P-Value: 0.0\n",
            "Channel_Code is correlated with Is_Lead | P-Value: 0.0\n",
            "Credit_Product is correlated with Is_Lead | P-Value: 0.0\n",
            "Is_Active is correlated with Is_Lead | P-Value: 0.0\n"
          ],
          "name": "stdout"
        },
        {
          "output_type": "execute_result",
          "data": {
            "text/plain": [
              "['Gender', 'Occupation', 'Channel_Code', 'Credit_Product', 'Is_Active']"
            ]
          },
          "metadata": {
            "tags": []
          },
          "execution_count": 38
        }
      ]
    },
    {
      "cell_type": "markdown",
      "metadata": {
        "id": "GN_sr2qbT63u"
      },
      "source": [
        "# Selecting final predictors for Machine Learning\n",
        "Based on the above tests, selecting the final columns for machine learning"
      ]
    },
    {
      "cell_type": "code",
      "metadata": {
        "colab": {
          "base_uri": "https://localhost:8080/",
          "height": 204
        },
        "id": "xCmtP9wtT63v",
        "outputId": "d4e20724-997a-49a9-b503-c555fd2cb487"
      },
      "source": [
        "SelectedColumns=['Age', 'Avg_Account_Balance', 'Vintage', 'Gender', 'Occupation',  'Channel_Code',\n",
        "                 'Credit_Product','Is_Active']\n",
        "\n",
        "# Selecting final columns\n",
        "DataForML=train[SelectedColumns]\n",
        "DataForML.head()"
      ],
      "execution_count": 39,
      "outputs": [
        {
          "output_type": "execute_result",
          "data": {
            "text/html": [
              "<div>\n",
              "<style scoped>\n",
              "    .dataframe tbody tr th:only-of-type {\n",
              "        vertical-align: middle;\n",
              "    }\n",
              "\n",
              "    .dataframe tbody tr th {\n",
              "        vertical-align: top;\n",
              "    }\n",
              "\n",
              "    .dataframe thead th {\n",
              "        text-align: right;\n",
              "    }\n",
              "</style>\n",
              "<table border=\"1\" class=\"dataframe\">\n",
              "  <thead>\n",
              "    <tr style=\"text-align: right;\">\n",
              "      <th></th>\n",
              "      <th>Age</th>\n",
              "      <th>Avg_Account_Balance</th>\n",
              "      <th>Vintage</th>\n",
              "      <th>Gender</th>\n",
              "      <th>Occupation</th>\n",
              "      <th>Channel_Code</th>\n",
              "      <th>Credit_Product</th>\n",
              "      <th>Is_Active</th>\n",
              "    </tr>\n",
              "  </thead>\n",
              "  <tbody>\n",
              "    <tr>\n",
              "      <th>0</th>\n",
              "      <td>73</td>\n",
              "      <td>1045696.0</td>\n",
              "      <td>43</td>\n",
              "      <td>Female</td>\n",
              "      <td>Other</td>\n",
              "      <td>X3</td>\n",
              "      <td>No</td>\n",
              "      <td>No</td>\n",
              "    </tr>\n",
              "    <tr>\n",
              "      <th>1</th>\n",
              "      <td>30</td>\n",
              "      <td>581988.0</td>\n",
              "      <td>32</td>\n",
              "      <td>Female</td>\n",
              "      <td>Salaried</td>\n",
              "      <td>X1</td>\n",
              "      <td>No</td>\n",
              "      <td>No</td>\n",
              "    </tr>\n",
              "    <tr>\n",
              "      <th>2</th>\n",
              "      <td>56</td>\n",
              "      <td>1484315.0</td>\n",
              "      <td>26</td>\n",
              "      <td>Female</td>\n",
              "      <td>Self_Employed</td>\n",
              "      <td>X3</td>\n",
              "      <td>No</td>\n",
              "      <td>Yes</td>\n",
              "    </tr>\n",
              "    <tr>\n",
              "      <th>3</th>\n",
              "      <td>34</td>\n",
              "      <td>470454.0</td>\n",
              "      <td>19</td>\n",
              "      <td>Male</td>\n",
              "      <td>Salaried</td>\n",
              "      <td>X1</td>\n",
              "      <td>No</td>\n",
              "      <td>No</td>\n",
              "    </tr>\n",
              "    <tr>\n",
              "      <th>4</th>\n",
              "      <td>30</td>\n",
              "      <td>886787.0</td>\n",
              "      <td>33</td>\n",
              "      <td>Female</td>\n",
              "      <td>Salaried</td>\n",
              "      <td>X1</td>\n",
              "      <td>No</td>\n",
              "      <td>No</td>\n",
              "    </tr>\n",
              "  </tbody>\n",
              "</table>\n",
              "</div>"
            ],
            "text/plain": [
              "   Age  Avg_Account_Balance  Vintage  ... Channel_Code Credit_Product Is_Active\n",
              "0   73            1045696.0       43  ...           X3             No        No\n",
              "1   30             581988.0       32  ...           X1             No        No\n",
              "2   56            1484315.0       26  ...           X3             No       Yes\n",
              "3   34             470454.0       19  ...           X1             No        No\n",
              "4   30             886787.0       33  ...           X1             No        No\n",
              "\n",
              "[5 rows x 8 columns]"
            ]
          },
          "metadata": {
            "tags": []
          },
          "execution_count": 39
        }
      ]
    },
    {
      "cell_type": "markdown",
      "metadata": {
        "id": "U3Ar1w0rT63y"
      },
      "source": [
        "## Converting the binary nominal variable to numeric using 1/0 mapping"
      ]
    },
    {
      "cell_type": "code",
      "metadata": {
        "id": "VLnMb_2vT63z"
      },
      "source": [
        "# Converting the binary nominal variable sex to numeric\n",
        "DataForML['Gender'].replace({'female':0, 'male':1}, inplace=True)"
      ],
      "execution_count": 40,
      "outputs": []
    },
    {
      "cell_type": "markdown",
      "metadata": {
        "id": "UW9tnYsCT63z"
      },
      "source": [
        "## Converting the nominal variable to numeric using get_dummies()"
      ]
    },
    {
      "cell_type": "code",
      "metadata": {
        "colab": {
          "base_uri": "https://localhost:8080/",
          "height": 224
        },
        "id": "MAzAN1J9T630",
        "scrolled": true,
        "outputId": "0b47ea7d-12d4-455b-e600-11f6b19be974"
      },
      "source": [
        "# Treating all the nominal variables at once using dummy variables\n",
        "DataForML_Numeric=pd.get_dummies(DataForML, drop_first=True)\n",
        "\n",
        "# Adding Target Variable to the data\n",
        "DataForML_Numeric['Is_Lead']=train['Is_Lead']\n",
        "\n",
        "# Printing sample rows\n",
        "DataForML_Numeric.head()"
      ],
      "execution_count": 41,
      "outputs": [
        {
          "output_type": "execute_result",
          "data": {
            "text/html": [
              "<div>\n",
              "<style scoped>\n",
              "    .dataframe tbody tr th:only-of-type {\n",
              "        vertical-align: middle;\n",
              "    }\n",
              "\n",
              "    .dataframe tbody tr th {\n",
              "        vertical-align: top;\n",
              "    }\n",
              "\n",
              "    .dataframe thead th {\n",
              "        text-align: right;\n",
              "    }\n",
              "</style>\n",
              "<table border=\"1\" class=\"dataframe\">\n",
              "  <thead>\n",
              "    <tr style=\"text-align: right;\">\n",
              "      <th></th>\n",
              "      <th>Age</th>\n",
              "      <th>Avg_Account_Balance</th>\n",
              "      <th>Vintage</th>\n",
              "      <th>Gender_Male</th>\n",
              "      <th>Occupation_Other</th>\n",
              "      <th>Occupation_Salaried</th>\n",
              "      <th>Occupation_Self_Employed</th>\n",
              "      <th>Channel_Code_X2</th>\n",
              "      <th>Channel_Code_X3</th>\n",
              "      <th>Channel_Code_X4</th>\n",
              "      <th>Credit_Product_Yes</th>\n",
              "      <th>Is_Active_Yes</th>\n",
              "      <th>Is_Lead</th>\n",
              "    </tr>\n",
              "  </thead>\n",
              "  <tbody>\n",
              "    <tr>\n",
              "      <th>0</th>\n",
              "      <td>73</td>\n",
              "      <td>1045696.0</td>\n",
              "      <td>43</td>\n",
              "      <td>0</td>\n",
              "      <td>1</td>\n",
              "      <td>0</td>\n",
              "      <td>0</td>\n",
              "      <td>0</td>\n",
              "      <td>1</td>\n",
              "      <td>0</td>\n",
              "      <td>0</td>\n",
              "      <td>0</td>\n",
              "      <td>0</td>\n",
              "    </tr>\n",
              "    <tr>\n",
              "      <th>1</th>\n",
              "      <td>30</td>\n",
              "      <td>581988.0</td>\n",
              "      <td>32</td>\n",
              "      <td>0</td>\n",
              "      <td>0</td>\n",
              "      <td>1</td>\n",
              "      <td>0</td>\n",
              "      <td>0</td>\n",
              "      <td>0</td>\n",
              "      <td>0</td>\n",
              "      <td>0</td>\n",
              "      <td>0</td>\n",
              "      <td>0</td>\n",
              "    </tr>\n",
              "    <tr>\n",
              "      <th>2</th>\n",
              "      <td>56</td>\n",
              "      <td>1484315.0</td>\n",
              "      <td>26</td>\n",
              "      <td>0</td>\n",
              "      <td>0</td>\n",
              "      <td>0</td>\n",
              "      <td>1</td>\n",
              "      <td>0</td>\n",
              "      <td>1</td>\n",
              "      <td>0</td>\n",
              "      <td>0</td>\n",
              "      <td>1</td>\n",
              "      <td>0</td>\n",
              "    </tr>\n",
              "    <tr>\n",
              "      <th>3</th>\n",
              "      <td>34</td>\n",
              "      <td>470454.0</td>\n",
              "      <td>19</td>\n",
              "      <td>1</td>\n",
              "      <td>0</td>\n",
              "      <td>1</td>\n",
              "      <td>0</td>\n",
              "      <td>0</td>\n",
              "      <td>0</td>\n",
              "      <td>0</td>\n",
              "      <td>0</td>\n",
              "      <td>0</td>\n",
              "      <td>0</td>\n",
              "    </tr>\n",
              "    <tr>\n",
              "      <th>4</th>\n",
              "      <td>30</td>\n",
              "      <td>886787.0</td>\n",
              "      <td>33</td>\n",
              "      <td>0</td>\n",
              "      <td>0</td>\n",
              "      <td>1</td>\n",
              "      <td>0</td>\n",
              "      <td>0</td>\n",
              "      <td>0</td>\n",
              "      <td>0</td>\n",
              "      <td>0</td>\n",
              "      <td>0</td>\n",
              "      <td>0</td>\n",
              "    </tr>\n",
              "  </tbody>\n",
              "</table>\n",
              "</div>"
            ],
            "text/plain": [
              "   Age  Avg_Account_Balance  ...  Is_Active_Yes  Is_Lead\n",
              "0   73            1045696.0  ...              0        0\n",
              "1   30             581988.0  ...              0        0\n",
              "2   56            1484315.0  ...              1        0\n",
              "3   34             470454.0  ...              0        0\n",
              "4   30             886787.0  ...              0        0\n",
              "\n",
              "[5 rows x 13 columns]"
            ]
          },
          "metadata": {
            "tags": []
          },
          "execution_count": 41
        }
      ]
    },
    {
      "cell_type": "code",
      "metadata": {
        "colab": {
          "base_uri": "https://localhost:8080/"
        },
        "id": "1tXfLS6IJwbj",
        "outputId": "f2224831-c763-4ed9-d515-7ab8cfaf368c"
      },
      "source": [
        "# Target variable distribution in percentage\n",
        "from collections import Counter\n",
        "\n",
        "target = train.iloc[:,-1]\n",
        "counter = Counter(target)\n",
        "\n",
        "# \n",
        "for class_name,count in counter.items():\n",
        "\tper = count / len(target) * 100\n",
        "\tprint('Class=%d, Count=%d, Percentage=%.2f%%' % (class_name, count, per))"
      ],
      "execution_count": 42,
      "outputs": [
        {
          "output_type": "stream",
          "text": [
            "Class=0, Count=187437, Percentage=76.28%\n",
            "Class=1, Count=58288, Percentage=23.72%\n"
          ],
          "name": "stdout"
        }
      ]
    },
    {
      "cell_type": "code",
      "metadata": {
        "colab": {
          "base_uri": "https://localhost:8080/"
        },
        "id": "RiZxglb5T631",
        "outputId": "eac3b069-7bfa-4e16-f211-97817d2c725b"
      },
      "source": [
        "# Printing all the column names for our reference\n",
        "DataForML_Numeric.columns"
      ],
      "execution_count": 43,
      "outputs": [
        {
          "output_type": "execute_result",
          "data": {
            "text/plain": [
              "Index(['Age', 'Avg_Account_Balance', 'Vintage', 'Gender_Male',\n",
              "       'Occupation_Other', 'Occupation_Salaried', 'Occupation_Self_Employed',\n",
              "       'Channel_Code_X2', 'Channel_Code_X3', 'Channel_Code_X4',\n",
              "       'Credit_Product_Yes', 'Is_Active_Yes', 'Is_Lead'],\n",
              "      dtype='object')"
            ]
          },
          "metadata": {
            "tags": []
          },
          "execution_count": 43
        }
      ]
    },
    {
      "cell_type": "code",
      "metadata": {
        "id": "DuYuvG8AT632"
      },
      "source": [
        "# Separate Target Variable and Predictor Variables\n",
        "TargetVariable='Is_Lead'\n",
        "Predictors=['Age', 'Avg_Account_Balance', 'Vintage', 'Gender_Male',\n",
        "       'Occupation_Other', 'Occupation_Salaried', 'Occupation_Self_Employed',\n",
        "       'Channel_Code_X2', 'Channel_Code_X3', 'Channel_Code_X4',\n",
        "       'Credit_Product_Yes', 'Is_Active_Yes']\n",
        "\n",
        "X=DataForML_Numeric[Predictors]\n",
        "y=DataForML_Numeric[TargetVariable]"
      ],
      "execution_count": 44,
      "outputs": []
    },
    {
      "cell_type": "code",
      "metadata": {
        "colab": {
          "base_uri": "https://localhost:8080/"
        },
        "id": "Ty0I6mDTQafT",
        "outputId": "ffa8c0f8-ed3a-485a-c0c3-ca9d75646b85"
      },
      "source": [
        "# Balanced the dataset\n",
        "from imblearn.combine import SMOTETomek\n",
        "\n",
        "sm = SMOTETomek()\n",
        "x_res, y_res = sm.fit_sample(X, y)\n",
        "Counter(y_res)"
      ],
      "execution_count": 45,
      "outputs": [
        {
          "output_type": "execute_result",
          "data": {
            "text/plain": [
              "Counter({0: 167098, 1: 167098})"
            ]
          },
          "metadata": {
            "tags": []
          },
          "execution_count": 45
        }
      ]
    },
    {
      "cell_type": "code",
      "metadata": {
        "id": "Ah9mPkv-ZItk",
        "colab": {
          "base_uri": "https://localhost:8080/"
        },
        "outputId": "6387e852-7a15-417f-cdfc-5b632695c17d"
      },
      "source": [
        "# convert resampled data into dataframe\n",
        "resampled_data = pd.DataFrame(x_res, columns = Predictors, dtype=np.uint64)\n",
        "\n",
        "### Add Target Variable\n",
        "resampled_data['Is_Lead'] = y_res\n",
        "resampled_data.shape"
      ],
      "execution_count": 46,
      "outputs": [
        {
          "output_type": "execute_result",
          "data": {
            "text/plain": [
              "(334196, 13)"
            ]
          },
          "metadata": {
            "tags": []
          },
          "execution_count": 46
        }
      ]
    },
    {
      "cell_type": "code",
      "metadata": {
        "colab": {
          "base_uri": "https://localhost:8080/",
          "height": 379
        },
        "id": "c9Pmdf61Z3YE",
        "outputId": "6cdee5eb-b258-4a12-8489-cdda9f8b3454"
      },
      "source": [
        "#### Sample from dataset\n",
        "resampled_data.sample(10)"
      ],
      "execution_count": 47,
      "outputs": [
        {
          "output_type": "execute_result",
          "data": {
            "text/html": [
              "<div>\n",
              "<style scoped>\n",
              "    .dataframe tbody tr th:only-of-type {\n",
              "        vertical-align: middle;\n",
              "    }\n",
              "\n",
              "    .dataframe tbody tr th {\n",
              "        vertical-align: top;\n",
              "    }\n",
              "\n",
              "    .dataframe thead th {\n",
              "        text-align: right;\n",
              "    }\n",
              "</style>\n",
              "<table border=\"1\" class=\"dataframe\">\n",
              "  <thead>\n",
              "    <tr style=\"text-align: right;\">\n",
              "      <th></th>\n",
              "      <th>Age</th>\n",
              "      <th>Avg_Account_Balance</th>\n",
              "      <th>Vintage</th>\n",
              "      <th>Gender_Male</th>\n",
              "      <th>Occupation_Other</th>\n",
              "      <th>Occupation_Salaried</th>\n",
              "      <th>Occupation_Self_Employed</th>\n",
              "      <th>Channel_Code_X2</th>\n",
              "      <th>Channel_Code_X3</th>\n",
              "      <th>Channel_Code_X4</th>\n",
              "      <th>Credit_Product_Yes</th>\n",
              "      <th>Is_Active_Yes</th>\n",
              "      <th>Is_Lead</th>\n",
              "    </tr>\n",
              "  </thead>\n",
              "  <tbody>\n",
              "    <tr>\n",
              "      <th>64044</th>\n",
              "      <td>29</td>\n",
              "      <td>677806</td>\n",
              "      <td>27</td>\n",
              "      <td>1</td>\n",
              "      <td>1</td>\n",
              "      <td>0</td>\n",
              "      <td>0</td>\n",
              "      <td>0</td>\n",
              "      <td>0</td>\n",
              "      <td>0</td>\n",
              "      <td>0</td>\n",
              "      <td>0</td>\n",
              "      <td>0</td>\n",
              "    </tr>\n",
              "    <tr>\n",
              "      <th>80642</th>\n",
              "      <td>49</td>\n",
              "      <td>1146061</td>\n",
              "      <td>98</td>\n",
              "      <td>0</td>\n",
              "      <td>0</td>\n",
              "      <td>0</td>\n",
              "      <td>1</td>\n",
              "      <td>0</td>\n",
              "      <td>1</td>\n",
              "      <td>0</td>\n",
              "      <td>1</td>\n",
              "      <td>1</td>\n",
              "      <td>1</td>\n",
              "    </tr>\n",
              "    <tr>\n",
              "      <th>331201</th>\n",
              "      <td>36</td>\n",
              "      <td>883970</td>\n",
              "      <td>47</td>\n",
              "      <td>0</td>\n",
              "      <td>0</td>\n",
              "      <td>0</td>\n",
              "      <td>0</td>\n",
              "      <td>0</td>\n",
              "      <td>0</td>\n",
              "      <td>0</td>\n",
              "      <td>1</td>\n",
              "      <td>0</td>\n",
              "      <td>1</td>\n",
              "    </tr>\n",
              "    <tr>\n",
              "      <th>178854</th>\n",
              "      <td>29</td>\n",
              "      <td>2083472</td>\n",
              "      <td>19</td>\n",
              "      <td>0</td>\n",
              "      <td>0</td>\n",
              "      <td>1</td>\n",
              "      <td>0</td>\n",
              "      <td>0</td>\n",
              "      <td>0</td>\n",
              "      <td>0</td>\n",
              "      <td>0</td>\n",
              "      <td>0</td>\n",
              "      <td>0</td>\n",
              "    </tr>\n",
              "    <tr>\n",
              "      <th>170200</th>\n",
              "      <td>32</td>\n",
              "      <td>648543</td>\n",
              "      <td>26</td>\n",
              "      <td>0</td>\n",
              "      <td>0</td>\n",
              "      <td>1</td>\n",
              "      <td>0</td>\n",
              "      <td>0</td>\n",
              "      <td>0</td>\n",
              "      <td>0</td>\n",
              "      <td>0</td>\n",
              "      <td>0</td>\n",
              "      <td>0</td>\n",
              "    </tr>\n",
              "    <tr>\n",
              "      <th>57973</th>\n",
              "      <td>32</td>\n",
              "      <td>1900844</td>\n",
              "      <td>31</td>\n",
              "      <td>1</td>\n",
              "      <td>0</td>\n",
              "      <td>1</td>\n",
              "      <td>0</td>\n",
              "      <td>0</td>\n",
              "      <td>0</td>\n",
              "      <td>0</td>\n",
              "      <td>0</td>\n",
              "      <td>0</td>\n",
              "      <td>0</td>\n",
              "    </tr>\n",
              "    <tr>\n",
              "      <th>248908</th>\n",
              "      <td>55</td>\n",
              "      <td>2254720</td>\n",
              "      <td>31</td>\n",
              "      <td>0</td>\n",
              "      <td>1</td>\n",
              "      <td>0</td>\n",
              "      <td>0</td>\n",
              "      <td>1</td>\n",
              "      <td>0</td>\n",
              "      <td>0</td>\n",
              "      <td>0</td>\n",
              "      <td>0</td>\n",
              "      <td>1</td>\n",
              "    </tr>\n",
              "    <tr>\n",
              "      <th>238554</th>\n",
              "      <td>56</td>\n",
              "      <td>2234797</td>\n",
              "      <td>89</td>\n",
              "      <td>0</td>\n",
              "      <td>0</td>\n",
              "      <td>0</td>\n",
              "      <td>0</td>\n",
              "      <td>0</td>\n",
              "      <td>0</td>\n",
              "      <td>0</td>\n",
              "      <td>0</td>\n",
              "      <td>0</td>\n",
              "      <td>1</td>\n",
              "    </tr>\n",
              "    <tr>\n",
              "      <th>198837</th>\n",
              "      <td>27</td>\n",
              "      <td>657131</td>\n",
              "      <td>21</td>\n",
              "      <td>0</td>\n",
              "      <td>0</td>\n",
              "      <td>1</td>\n",
              "      <td>0</td>\n",
              "      <td>0</td>\n",
              "      <td>0</td>\n",
              "      <td>0</td>\n",
              "      <td>1</td>\n",
              "      <td>0</td>\n",
              "      <td>0</td>\n",
              "    </tr>\n",
              "    <tr>\n",
              "      <th>12961</th>\n",
              "      <td>36</td>\n",
              "      <td>761172</td>\n",
              "      <td>25</td>\n",
              "      <td>0</td>\n",
              "      <td>0</td>\n",
              "      <td>1</td>\n",
              "      <td>0</td>\n",
              "      <td>0</td>\n",
              "      <td>0</td>\n",
              "      <td>0</td>\n",
              "      <td>0</td>\n",
              "      <td>0</td>\n",
              "      <td>0</td>\n",
              "    </tr>\n",
              "  </tbody>\n",
              "</table>\n",
              "</div>"
            ],
            "text/plain": [
              "        Age  Avg_Account_Balance  ...  Is_Active_Yes  Is_Lead\n",
              "64044    29               677806  ...              0        0\n",
              "80642    49              1146061  ...              1        1\n",
              "331201   36               883970  ...              0        1\n",
              "178854   29              2083472  ...              0        0\n",
              "170200   32               648543  ...              0        0\n",
              "57973    32              1900844  ...              0        0\n",
              "248908   55              2254720  ...              0        1\n",
              "238554   56              2234797  ...              0        1\n",
              "198837   27               657131  ...              0        0\n",
              "12961    36               761172  ...              0        0\n",
              "\n",
              "[10 rows x 13 columns]"
            ]
          },
          "metadata": {
            "tags": []
          },
          "execution_count": 47
        }
      ]
    },
    {
      "cell_type": "code",
      "metadata": {
        "id": "810N84Q-Ya-7"
      },
      "source": [
        "# Saving this final data for reference during deployment\n",
        "resampled_data.to_pickle('credit_card_train.pkl')"
      ],
      "execution_count": 48,
      "outputs": []
    },
    {
      "cell_type": "markdown",
      "metadata": {
        "id": "41_-jrhTT633"
      },
      "source": [
        "# Standardization/Normalization of data\n",
        "You can choose not to run this step if you want to compare the resultant accuracy of this transformation with the accuracy of raw data. \n",
        "\n",
        "However, if you are using KNN or Neural Networks, then this step becomes necessary."
      ]
    },
    {
      "cell_type": "code",
      "metadata": {
        "id": "otPac5gBT634"
      },
      "source": [
        "### Sandardization of data ###\n",
        "from sklearn.preprocessing import StandardScaler, MinMaxScaler\n",
        "# Choose either standardization or Normalization\n",
        "# On this data Min Max Normalization produced better results\n",
        "\n",
        "x_data = resampled_data.drop(columns=['Is_Lead'], axis=1).values\n",
        "y_data = resampled_data['Is_Lead'].values\n",
        "\n",
        "# Choose between standardization and MinMAx normalization\n",
        "#PredictorScaler=StandardScaler()\n",
        "PredictorScaler=MinMaxScaler()\n",
        "\n",
        "# Storing the fit object for later reference\n",
        "PredictorScalerFit=PredictorScaler.fit(x_data)\n",
        "\n",
        "# Generating the standardized values of X\n",
        "X=PredictorScalerFit.transform(x_data)\n",
        "y = y_data.copy()\n",
        "\n",
        "# Split the data into training and testing set\n",
        "from sklearn.model_selection import train_test_split\n",
        "X_train, X_test, y_train, y_test = train_test_split(X, y, test_size=0.3, random_state=42)"
      ],
      "execution_count": 49,
      "outputs": []
    },
    {
      "cell_type": "code",
      "metadata": {
        "colab": {
          "base_uri": "https://localhost:8080/"
        },
        "id": "jfQ7zmIlT635",
        "outputId": "de2f8c18-206d-45a7-bf68-b5053a3c4a9e"
      },
      "source": [
        "# Sanity check for the sampled data\n",
        "print(X_train.shape)\n",
        "print(y_train.shape)\n",
        "print(X_test.shape)\n",
        "print(y_test.shape)"
      ],
      "execution_count": 50,
      "outputs": [
        {
          "output_type": "stream",
          "text": [
            "(233937, 12)\n",
            "(233937,)\n",
            "(100259, 12)\n",
            "(100259,)\n"
          ],
          "name": "stdout"
        }
      ]
    },
    {
      "cell_type": "markdown",
      "metadata": {
        "id": "NzNP-zRQT637"
      },
      "source": [
        "# Logistic Regression"
      ]
    },
    {
      "cell_type": "code",
      "metadata": {
        "colab": {
          "base_uri": "https://localhost:8080/"
        },
        "id": "ZZZ0iTR9T638",
        "outputId": "aa386f76-5bc9-43f9-8ae1-42b330698af1"
      },
      "source": [
        "# Logistic Regression\n",
        "from sklearn.linear_model import LogisticRegression\n",
        "# choose parameter Penalty='l1' or C=1\n",
        "# choose different values for solver 'newton-cg', 'lbfgs', 'liblinear', 'sag', 'saga'\n",
        "clf = LogisticRegression(C=1,penalty='l2', solver='newton-cg')\n",
        "\n",
        "# Printing all the parameters of logistic regression\n",
        "# print(clf)\n",
        "\n",
        "# Creating the model on Training Data\n",
        "LOG=clf.fit(X_train,y_train)\n",
        "prediction=LOG.predict(X_test)\n",
        "pred_prob = LOG.predict_proba(X_test)\n",
        "\n",
        "# Measuring accuracy on Testing Data\n",
        "from sklearn import metrics\n",
        "print(metrics.classification_report(y_test, prediction))\n",
        "print(metrics.confusion_matrix(y_test, prediction))\n",
        "\n",
        "# Printing the Overall Accuracy of the model\n",
        "#F1_Score=metrics.f1_score(y_test, prediction, average='weighted')\n",
        "#print('Accuracy of the model on Testing Sample Data:', round(F1_Score,2))\n",
        "\n",
        "# Printing the Overall Accuracy of the model\n",
        "F1_Score=metrics.roc_auc_score(y_test, pred_prob[:,1], average='weighted')\n",
        "print('Accuracy of the model on Testing Sample Data:', round(F1_Score,2))\n",
        "\n",
        "# Importing cross validation function from sklearn\n",
        "from sklearn.model_selection import cross_val_score\n",
        "\n",
        "# Running 10-Fold Cross validation on a given algorithmd\n",
        "# Passing full data X and y because the K-fold will split the data and automatically choose train/test\n",
        "Accuracy_Values=cross_val_score(LOG, X , y, cv=10, scoring='roc_auc')\n",
        "print('\\nAccuracy values for 10-fold Cross Validation:\\n',Accuracy_Values)\n",
        "print('\\nFinal Average Accuracy of the model:', round(Accuracy_Values.mean(),2))"
      ],
      "execution_count": 52,
      "outputs": [
        {
          "output_type": "stream",
          "text": [
            "              precision    recall  f1-score   support\n",
            "\n",
            "           0       0.74      0.83      0.79     50023\n",
            "           1       0.81      0.71      0.76     50236\n",
            "\n",
            "    accuracy                           0.77    100259\n",
            "   macro avg       0.78      0.77      0.77    100259\n",
            "weighted avg       0.78      0.77      0.77    100259\n",
            "\n",
            "[[41744  8279]\n",
            " [14573 35663]]\n",
            "Accuracy of the model on Testing Sample Data: 0.86\n",
            "\n",
            "Accuracy values for 10-fold Cross Validation:\n",
            " [0.66712241 0.67146107 0.67620149 0.92433052 0.92457405 0.9256646\n",
            " 0.92421246 0.9259879  0.92316211 0.92450533]\n",
            "\n",
            "Final Average Accuracy of the model: 0.85\n"
          ],
          "name": "stdout"
        }
      ]
    },
    {
      "cell_type": "markdown",
      "metadata": {
        "id": "advib9OwT63-"
      },
      "source": [
        "# Decision Trees"
      ]
    },
    {
      "cell_type": "code",
      "metadata": {
        "colab": {
          "base_uri": "https://localhost:8080/",
          "height": 670
        },
        "id": "v2nxpfolT63_",
        "outputId": "d7367aec-6509-4208-e477-e98bc1c107de"
      },
      "source": [
        "#Decision Trees\n",
        "from sklearn import tree\n",
        "# choose from different tunable hyper parameters\n",
        "# Choose various values of max_depth and criterion for tuning the model\n",
        "clf = tree.DecisionTreeClassifier(max_depth=4,criterion='gini')\n",
        "\n",
        "# Printing all the parameters of Decision Trees\n",
        "print(clf)\n",
        "\n",
        "# Creating the model on Training Data\n",
        "DTree=clf.fit(X_train,y_train)\n",
        "prediction=DTree.predict(X_test)\n",
        "pred_prob = DTree.predict_proba(X_test)\n",
        "\n",
        "# Measuring accuracy on Testing Data\n",
        "from sklearn import metrics\n",
        "print(metrics.classification_report(y_test, prediction))\n",
        "print(metrics.confusion_matrix(y_test, prediction))\n",
        "\n",
        "# Printing the Overall Accuracy of the model\n",
        "F1_Score=metrics.roc_auc_score(y_test, pred_prob[:,1], average='weighted')\n",
        "print('Accuracy of the model on Testing Sample Data:', round(F1_Score,2))\n",
        "\n",
        "# Plotting the feature importance for Top 10 most important columns\n",
        "%matplotlib inline\n",
        "feature_importances = pd.Series(DTree.feature_importances_, index=Predictors)\n",
        "feature_importances.nlargest(10).plot(kind='barh')\n",
        "\n",
        "# Importing cross validation function from sklearn\n",
        "from sklearn.model_selection import cross_val_score\n",
        "\n",
        "# Running 10-Fold Cross validation on a given algorithm\n",
        "# Passing full data X and y because the K-fold will split the data and automatically choose train/test\n",
        "Accuracy_Values=cross_val_score(DTree, X , y, cv=10, scoring='roc_auc')\n",
        "print('\\nAccuracy values for 10-fold Cross Validation:\\n',Accuracy_Values)\n",
        "print('\\nFinal Average Accuracy of the model:', round(Accuracy_Values.mean(),2))"
      ],
      "execution_count": 53,
      "outputs": [
        {
          "output_type": "stream",
          "text": [
            "DecisionTreeClassifier(ccp_alpha=0.0, class_weight=None, criterion='gini',\n",
            "                       max_depth=4, max_features=None, max_leaf_nodes=None,\n",
            "                       min_impurity_decrease=0.0, min_impurity_split=None,\n",
            "                       min_samples_leaf=1, min_samples_split=2,\n",
            "                       min_weight_fraction_leaf=0.0, presort='deprecated',\n",
            "                       random_state=None, splitter='best')\n",
            "              precision    recall  f1-score   support\n",
            "\n",
            "           0       0.75      0.77      0.76     50023\n",
            "           1       0.77      0.75      0.76     50236\n",
            "\n",
            "    accuracy                           0.76    100259\n",
            "   macro avg       0.76      0.76      0.76    100259\n",
            "weighted avg       0.76      0.76      0.76    100259\n",
            "\n",
            "[[38761 11262]\n",
            " [12615 37621]]\n",
            "Accuracy of the model on Testing Sample Data: 0.86\n",
            "\n",
            "Accuracy values for 10-fold Cross Validation:\n",
            " [0.74376238 0.75238941 0.74977287 0.89759282 0.9002962  0.89822078\n",
            " 0.89883203 0.89962923 0.89896002 0.89860925]\n",
            "\n",
            "Final Average Accuracy of the model: 0.85\n"
          ],
          "name": "stdout"
        },
        {
          "output_type": "display_data",
          "data": {
            "image/png": "[encoded data removed]",
            "text/plain": [
              "<Figure size 432x288 with 1 Axes>"
            ]
          },
          "metadata": {
            "tags": [],
            "needs_background": "light"
          }
        }
      ]
    },
    {
      "cell_type": "markdown",
      "metadata": {
        "id": "Ipzci5_ST64D"
      },
      "source": [
        "## Random Forest"
      ]
    },
    {
      "cell_type": "code",
      "metadata": {
        "colab": {
          "base_uri": "https://localhost:8080/",
          "height": 721
        },
        "id": "Q6Dg-wJIT64D",
        "scrolled": false,
        "outputId": "81605263-aa72-4ea4-8ed6-dc0c711ff844"
      },
      "source": [
        "# Random Forest (Bagging of multiple Decision Trees)\n",
        "from sklearn.ensemble import RandomForestClassifier\n",
        "# Choose various values of max_depth, n_estimators and criterion for tuning the model\n",
        "clf = RandomForestClassifier(max_depth=10, n_estimators=100,criterion='gini')\n",
        "\n",
        "\n",
        "# Printing all the parameters of Random Forest\n",
        "print(clf)\n",
        "\n",
        "# Creating the model on Training Data\n",
        "RF=clf.fit(X_train,y_train)\n",
        "prediction=RF.predict(X_test)\n",
        "pred_prob = RF.predict_proba(X_test)\n",
        "\n",
        "# Measuring accuracy on Testing Data\n",
        "from sklearn import metrics\n",
        "print(metrics.classification_report(y_test, prediction))\n",
        "print(metrics.confusion_matrix(y_test, prediction))\n",
        "\n",
        "# Printing the Overall Accuracy of the model\n",
        "F1_Score=metrics.roc_auc_score(y_test, pred_prob[:,1], average='weighted')\n",
        "print('Accuracy of the model on Testing Sample Data:', round(F1_Score,2))\n",
        "\n",
        "# Importing cross validation function from sklearn\n",
        "from sklearn.model_selection import cross_val_score\n",
        "\n",
        "# Running 10-Fold Cross validation on a given algorithm\n",
        "# Passing full data X and y because the K-fold will split the data and automatically choose train/test\n",
        "Accuracy_Values=cross_val_score(RF, X , y, cv=10, scoring='roc_auc')\n",
        "print('\\nAccuracy values for 10-fold Cross Validation:\\n',Accuracy_Values)\n",
        "print('\\nFinal Average Accuracy of the model:', round(Accuracy_Values.mean(),2))\n",
        "\n",
        "\n",
        "# Plotting the feature importance for Top 10 most important columns\n",
        "%matplotlib inline\n",
        "feature_importances = pd.Series(RF.feature_importances_, index=Predictors)\n",
        "feature_importances.nlargest(10).plot(kind='barh')"
      ],
      "execution_count": 54,
      "outputs": [
        {
          "output_type": "stream",
          "text": [
            "RandomForestClassifier(bootstrap=True, ccp_alpha=0.0, class_weight=None,\n",
            "                       criterion='gini', max_depth=10, max_features='auto',\n",
            "                       max_leaf_nodes=None, max_samples=None,\n",
            "                       min_impurity_decrease=0.0, min_impurity_split=None,\n",
            "                       min_samples_leaf=1, min_samples_split=2,\n",
            "                       min_weight_fraction_leaf=0.0, n_estimators=100,\n",
            "                       n_jobs=None, oob_score=False, random_state=None,\n",
            "                       verbose=0, warm_start=False)\n",
            "              precision    recall  f1-score   support\n",
            "\n",
            "           0       0.80      0.87      0.83     50023\n",
            "           1       0.85      0.78      0.82     50236\n",
            "\n",
            "    accuracy                           0.82    100259\n",
            "   macro avg       0.83      0.82      0.82    100259\n",
            "weighted avg       0.83      0.82      0.82    100259\n",
            "\n",
            "[[43308  6715]\n",
            " [10985 39251]]\n",
            "Accuracy of the model on Testing Sample Data: 0.91\n",
            "\n",
            "Accuracy values for 10-fold Cross Validation:\n",
            " [0.7721726  0.77925154 0.78475871 0.96013043 0.96061375 0.96014432\n",
            " 0.959498   0.95978264 0.95990041 0.96078157]\n",
            "\n",
            "Final Average Accuracy of the model: 0.91\n"
          ],
          "name": "stdout"
        },
        {
          "output_type": "execute_result",
          "data": {
            "text/plain": [
              "<matplotlib.axes._subplots.AxesSubplot at 0x7ff279699a90>"
            ]
          },
          "metadata": {
            "tags": []
          },
          "execution_count": 54
        },
        {
          "output_type": "display_data",
          "data": {
            "image/png": "[encoded data removed]",
            "text/plain": [
              "<Figure size 432x288 with 1 Axes>"
            ]
          },
          "metadata": {
            "tags": [],
            "needs_background": "light"
          }
        }
      ]
    },
    {
      "cell_type": "code",
      "metadata": {
        "colab": {
          "base_uri": "https://localhost:8080/"
        },
        "id": "hFlzKk226BR8",
        "outputId": "a3c19438-8c14-439b-e50e-91ee2e9aad2b"
      },
      "source": [
        "!pip install lightgbm"
      ],
      "execution_count": 55,
      "outputs": [
        {
          "output_type": "stream",
          "text": [
            "Requirement already satisfied: lightgbm in /usr/local/lib/python3.7/dist-packages (2.2.3)\n",
            "Requirement already satisfied: scipy in /usr/local/lib/python3.7/dist-packages (from lightgbm) (1.4.1)\n",
            "Requirement already satisfied: numpy in /usr/local/lib/python3.7/dist-packages (from lightgbm) (1.19.5)\n",
            "Requirement already satisfied: scikit-learn in /usr/local/lib/python3.7/dist-packages (from lightgbm) (0.22.2.post1)\n",
            "Requirement already satisfied: joblib>=0.11 in /usr/local/lib/python3.7/dist-packages (from scikit-learn->lightgbm) (1.0.1)\n"
          ],
          "name": "stdout"
        }
      ]
    },
    {
      "cell_type": "code",
      "metadata": {
        "colab": {
          "base_uri": "https://localhost:8080/",
          "height": 687
        },
        "id": "ZpegQ2Ue6QBS",
        "outputId": "b0baa8af-7832-4bce-ffe9-67d9c19fd89e"
      },
      "source": [
        "from lightgbm import LGBMClassifier\n",
        "\n",
        "clf=LGBMClassifier()\n",
        "\n",
        "print(clf)\n",
        "\n",
        "# Creating the model on Training Data\n",
        "LGBM=clf.fit(X_train,y_train)\n",
        "prediction=LGBM.predict(X_test)\n",
        "pred_prob = LGBM.predict_proba(X_test)\n",
        "\n",
        "# Measuring accuracy on Testing Data\n",
        "from sklearn import metrics\n",
        "print(metrics.classification_report(y_test, prediction))\n",
        "print(metrics.confusion_matrix(y_test, prediction))\n",
        "\n",
        "# Printing the Overall Accuracy of the model\n",
        "F1_Score=metrics.roc_auc_score(y_test, pred_prob[:,1], average='weighted')\n",
        "print('Accuracy of the model on Testing Sample Data:', round(F1_Score,2))\n",
        "\n",
        "# Importing cross validation function from sklearn\n",
        "from sklearn.model_selection import cross_val_score\n",
        "\n",
        "# Running 10-Fold Cross validation on a given algorithm\n",
        "# Passing full data X and y because the K-fold will split the data and automatically choose train/test\n",
        "Accuracy_Values=cross_val_score(LGBM, X , y, cv=10, scoring='roc_auc')\n",
        "print('\\nAccuracy values for 10-fold Cross Validation:\\n',Accuracy_Values)\n",
        "print('\\nFinal Average Accuracy of the model:', round(Accuracy_Values.mean(),2))\n",
        "\n",
        "# Plotting the feature importance for Top 10 most important columns\n",
        "%matplotlib inline\n",
        "feature_importances = pd.Series(LGBM.feature_importances_, index=Predictors)\n",
        "feature_importances.nlargest(10).plot(kind='barh')"
      ],
      "execution_count": null,
      "outputs": [
        {
          "output_type": "stream",
          "text": [
            "LGBMClassifier(boosting_type='gbdt', class_weight=None, colsample_bytree=1.0,\n",
            "               importance_type='split', learning_rate=0.1, max_depth=-1,\n",
            "               min_child_samples=20, min_child_weight=0.001, min_split_gain=0.0,\n",
            "               n_estimators=100, n_jobs=-1, num_leaves=31, objective=None,\n",
            "               random_state=None, reg_alpha=0.0, reg_lambda=0.0, silent=True,\n",
            "               subsample=1.0, subsample_for_bin=200000, subsample_freq=0)\n",
            "              precision    recall  f1-score   support\n",
            "\n",
            "           0       0.80      0.90      0.85     49985\n",
            "           1       0.89      0.78      0.83     50236\n",
            "\n",
            "    accuracy                           0.84    100221\n",
            "   macro avg       0.84      0.84      0.84    100221\n",
            "weighted avg       0.84      0.84      0.84    100221\n",
            "\n",
            "[[44911  5074]\n",
            " [11060 39176]]\n",
            "Accuracy of the model on Testing Sample Data: 0.92\n",
            "\n",
            "Accuracy values for 10-fold Cross Validation:\n",
            " [0.78425241 0.79003125 0.7924276  0.97133606 0.97237129 0.97291325\n",
            " 0.97278432 0.97201857 0.97473117 0.97291682]\n",
            "\n",
            "Final Average Accuracy of the model: 0.92\n"
          ],
          "name": "stdout"
        },
        {
          "output_type": "execute_result",
          "data": {
            "text/plain": [
              "<matplotlib.axes._subplots.AxesSubplot at 0x7f4834978610>"
            ]
          },
          "metadata": {
            "tags": []
          },
          "execution_count": 451
        },
        {
          "output_type": "display_data",
          "data": {
            "image/png": "[encoded data removed]",
            "text/plain": [
              "<Figure size 432x288 with 1 Axes>"
            ]
          },
          "metadata": {
            "tags": [],
            "needs_background": "light"
          }
        }
      ]
    },
    {
      "cell_type": "markdown",
      "metadata": {
        "id": "TwWIBosb-c4o"
      },
      "source": [
        "**Final model**"
      ]
    },
    {
      "cell_type": "code",
      "metadata": {
        "colab": {
          "base_uri": "https://localhost:8080/"
        },
        "id": "rewnkEE5WLk0",
        "outputId": "951caae5-703f-4c68-b1a5-67c48eba2872"
      },
      "source": [
        "resampled_data.columns"
      ],
      "execution_count": 56,
      "outputs": [
        {
          "output_type": "execute_result",
          "data": {
            "text/plain": [
              "Index(['Age', 'Avg_Account_Balance', 'Vintage', 'Gender_Male',\n",
              "       'Occupation_Other', 'Occupation_Salaried', 'Occupation_Self_Employed',\n",
              "       'Channel_Code_X2', 'Channel_Code_X3', 'Channel_Code_X4',\n",
              "       'Credit_Product_Yes', 'Is_Active_Yes', 'Is_Lead'],\n",
              "      dtype='object')"
            ]
          },
          "metadata": {
            "tags": []
          },
          "execution_count": 56
        }
      ]
    },
    {
      "cell_type": "code",
      "metadata": {
        "id": "JHVS-GoqKfRj"
      },
      "source": [
        "# Separate Target Variable and Predictor Variables\n",
        "TargetVariable='Is_Lead'\n",
        "Predictors=['Age', 'Avg_Account_Balance', 'Vintage', 'Gender_Male',\n",
        "       'Occupation_Other', 'Occupation_Salaried', 'Occupation_Self_Employed',\n",
        "       'Channel_Code_X2', 'Channel_Code_X3', 'Channel_Code_X4',\n",
        "       'Credit_Product_Yes', 'Is_Active_Yes']\n",
        "\n",
        "\n",
        "### Sandardization of data ###\n",
        "from sklearn.preprocessing import StandardScaler, MinMaxScaler\n",
        "# Choose either standardization or Normalization\n",
        "# On this data Min Max Normalization produced better results\n",
        "\n",
        "x_data = resampled_data.drop(columns=['Is_Lead'], axis=1).values\n",
        "y_data = resampled_data['Is_Lead'].values\n",
        "\n",
        "# Choose between standardization and MinMAx normalization\n",
        "#PredictorScaler=StandardScaler()\n",
        "PredictorScaler=MinMaxScaler()\n",
        "\n",
        "# Storing the fit object for later reference\n",
        "PredictorScalerFit=PredictorScaler.fit(x_data)\n",
        "\n",
        "# Generating the standardized values of X\n",
        "X=PredictorScalerFit.transform(x_data)\n",
        "y = y_data.copy()"
      ],
      "execution_count": 57,
      "outputs": []
    },
    {
      "cell_type": "markdown",
      "metadata": {
        "id": "d-IZJ49vNN-t"
      },
      "source": [
        "**Retraining the model using 100% data**"
      ]
    },
    {
      "cell_type": "code",
      "metadata": {
        "id": "2JUobYQAKfJi"
      },
      "source": [
        "from lightgbm import LGBMClassifier\n",
        "model = LGBMClassifier(objective='binary',\n",
        "class_weight= None,\n",
        " learning_rate=0.51,\n",
        " max_depth=3,\n",
        " n_estimators=150)\n",
        "\n",
        "fit = model.fit(X, y)"
      ],
      "execution_count": 58,
      "outputs": []
    },
    {
      "cell_type": "markdown",
      "metadata": {
        "id": "HskAjUBWNX0Q"
      },
      "source": [
        "**Cross validating the final model accuracy with less predictors**"
      ]
    },
    {
      "cell_type": "code",
      "metadata": {
        "colab": {
          "base_uri": "https://localhost:8080/"
        },
        "id": "r-m8rhVHKfFL",
        "outputId": "17323786-651c-4885-f2c3-cda6574a6202"
      },
      "source": [
        "# Importing cross validation function from sklearn\n",
        "from sklearn.model_selection import cross_val_score\n",
        "\n",
        "# Running 10-Fold Cross validation on a given algorithm\n",
        "# Passing full data X and y because the K-fold will split the data and automatically choose train/test\n",
        "Accuracy_Values=cross_val_score(fit, X , y, cv=10, scoring='roc_auc')\n",
        "print('\\nAccuracy values for 10-fold Cross Validation:\\n',Accuracy_Values)\n",
        "print('\\nFinal Average Accuracy of the model:', round(Accuracy_Values.mean(),2))"
      ],
      "execution_count": 59,
      "outputs": [
        {
          "output_type": "stream",
          "text": [
            "\n",
            "Accuracy values for 10-fold Cross Validation:\n",
            " [0.78072819 0.78621561 0.79366317 0.97383241 0.97317793 0.97276117\n",
            " 0.97201516 0.97286379 0.97292409 0.97385118]\n",
            "\n",
            "Final Average Accuracy of the model: 0.92\n"
          ],
          "name": "stdout"
        }
      ]
    },
    {
      "cell_type": "markdown",
      "metadata": {
        "id": "JmqeGofVOcfl"
      },
      "source": [
        "**Save the model as a serialized file which can be stored anywhere**"
      ]
    },
    {
      "cell_type": "code",
      "metadata": {
        "colab": {
          "base_uri": "https://localhost:8080/"
        },
        "id": "XH2dtnYjKfCc",
        "outputId": "df3c9dba-b371-4aaa-897b-590b3ac7a10c"
      },
      "source": [
        "import pickle\n",
        "import os\n",
        "\n",
        "# Saving the Python objects as serialized files can be done using pickle library\n",
        "# Here let us save the Final model\n",
        "with open('credit_card_LGBMClassifier.pkl', 'wb') as fileWriteStream:\n",
        "    pickle.dump(fit, fileWriteStream)\n",
        "    # Don't forget to close the filestream!\n",
        "    fileWriteStream.close()\n",
        "    \n",
        "print('pickle file of Predictive Model is saved at Location:',os.getcwd())"
      ],
      "execution_count": 60,
      "outputs": [
        {
          "output_type": "stream",
          "text": [
            "pickle file of Predictive Model is saved at Location: /content\n"
          ],
          "name": "stdout"
        }
      ]
    },
    {
      "cell_type": "markdown",
      "metadata": {
        "id": "1K90IVRiP9US"
      },
      "source": [
        "**Create a python function**"
      ]
    },
    {
      "cell_type": "code",
      "metadata": {
        "id": "oBIlKuoXKe_g"
      },
      "source": [
        "# This Function can be called from any from any front end tool/website\n",
        "def PredictCustomerIntent(InputData):\n",
        "    import pandas as pd\n",
        "    Num_Inputs=InputData.shape[0]\n",
        "    \n",
        "    # Making sure the input data has same columns as it was used for training the model\n",
        "    # Also, if standardization/normalization was done, then same must be done for new input\n",
        "    \n",
        "    # Appending the new data with the Training data\n",
        "    DataForML=pd.read_pickle('credit_card_train.pkl')\n",
        "    InputData=InputData.append(DataForML.drop(['Is_Lead'], axis=1))\n",
        "    \n",
        "    # Generating dummy variables for rest of the nominal variables\n",
        "    InputData=pd.get_dummies(InputData, drop_first=True)\n",
        "    \n",
        "    # Generating the input values to the model\n",
        "    X=InputData[Predictors].values[0:Num_Inputs]\n",
        "    \n",
        "    # Generating the standardized values of X since it was done while model training also\n",
        "    X=PredictorScalerFit.transform(X)\n",
        "    \n",
        "    # Loading the Function from pickle file\n",
        "    import pickle\n",
        "    with open('credit_card_LGBMClassifier.pkl', 'rb') as fileReadStream:\n",
        "        LGBMModel=pickle.load(fileReadStream)\n",
        "        # Don't forget to close the filestream!\n",
        "        fileReadStream.close()\n",
        "            \n",
        "    # Genrating Predictions\n",
        "    Prediction=LGBMModel.predict(X)\n",
        "    PredictedStatus=pd.DataFrame(Prediction, columns=['Predicted Status'])\n",
        "    return(PredictedStatus)"
      ],
      "execution_count": 61,
      "outputs": []
    },
    {
      "cell_type": "code",
      "metadata": {
        "colab": {
          "base_uri": "https://localhost:8080/",
          "height": 196
        },
        "id": "frwAG5-W-YoO",
        "outputId": "caaf3305-a1fd-4996-daa8-9f4a38a6865a"
      },
      "source": [
        "# Calling the function for some loan applications\n",
        "EmployeeDetails=pd.DataFrame(\n",
        "data=[[73,1045696,35,0,1,0,0,0,1,0,0,0],\n",
        "     [30,581988,67,0,0,1\t,0,0,0,0,0,0]],\n",
        "columns=Predictors)\n",
        "\n",
        "print(EmployeeDetails)\n",
        "\n",
        "# Calling the Function for prediction\n",
        "PredictCustomerIntent(InputData= EmployeeDetails)"
      ],
      "execution_count": 62,
      "outputs": [
        {
          "output_type": "stream",
          "text": [
            "   Age  Avg_Account_Balance  ...  Credit_Product_Yes  Is_Active_Yes\n",
            "0   73              1045696  ...                   0              0\n",
            "1   30               581988  ...                   0              0\n",
            "\n",
            "[2 rows x 12 columns]\n"
          ],
          "name": "stdout"
        },
        {
          "output_type": "execute_result",
          "data": {
            "text/html": [
              "<div>\n",
              "<style scoped>\n",
              "    .dataframe tbody tr th:only-of-type {\n",
              "        vertical-align: middle;\n",
              "    }\n",
              "\n",
              "    .dataframe tbody tr th {\n",
              "        vertical-align: top;\n",
              "    }\n",
              "\n",
              "    .dataframe thead th {\n",
              "        text-align: right;\n",
              "    }\n",
              "</style>\n",
              "<table border=\"1\" class=\"dataframe\">\n",
              "  <thead>\n",
              "    <tr style=\"text-align: right;\">\n",
              "      <th></th>\n",
              "      <th>Predicted Status</th>\n",
              "    </tr>\n",
              "  </thead>\n",
              "  <tbody>\n",
              "    <tr>\n",
              "      <th>0</th>\n",
              "      <td>1</td>\n",
              "    </tr>\n",
              "    <tr>\n",
              "      <th>1</th>\n",
              "      <td>1</td>\n",
              "    </tr>\n",
              "  </tbody>\n",
              "</table>\n",
              "</div>"
            ],
            "text/plain": [
              "   Predicted Status\n",
              "0                 1\n",
              "1                 1"
            ]
          },
          "metadata": {
            "tags": []
          },
          "execution_count": 62
        }
      ]
    },
    {
      "cell_type": "code",
      "metadata": {
        "colab": {
          "base_uri": "https://localhost:8080/",
          "height": 35
        },
        "id": "uWmQyun6_EWr",
        "outputId": "60adefc0-589e-4ebc-909b-5ff8de13035e"
      },
      "source": [
        "# Creating the function which can take inputs and return predictions\n",
        "def FunctionCustomerIntentPrediction(inp_Age, inp_Avg_Account_Balance,inp_Vintage, inp_Gender_Male, inp_Occupation_Other,\n",
        "       inp_Occupation_Salaried, inp_Occupation_Self_Employed, inp_Channel_Code_X2,\n",
        "       inp_Channel_Code_X3, inp_Channel_Code_X4, inp_Credit_Product_Yes,\n",
        "       inp_Is_Active_Yes):\n",
        "    \n",
        "    # Creating a data frame for the model input\n",
        "    SampleInputData=pd.DataFrame(\n",
        "     data=[[inp_Age, inp_Avg_Account_Balance,inp_Vintage, inp_Gender_Male, inp_Occupation_Other,\n",
        "       inp_Occupation_Salaried, inp_Occupation_Self_Employed, inp_Channel_Code_X2,\n",
        "       inp_Channel_Code_X3, inp_Channel_Code_X4, inp_Credit_Product_Yes,\n",
        "       inp_Is_Active_Yes]],\n",
        "     columns=Predictors)\n",
        "\n",
        "    # Calling the function defined above using the input parameters\n",
        "    Predictions=PredictCustomerIntent(InputData= SampleInputData)\n",
        "\n",
        "    # Returning the predictions\n",
        "    return(Predictions.to_json())\n",
        "\n",
        "# Function call\n",
        "FunctionCustomerIntentPrediction(inp_Age = 30, \n",
        "                             inp_Avg_Account_Balance = 13000,\n",
        "                             inp_Vintage = 34,\n",
        "                             inp_Gender_Male = 1,\n",
        "                             inp_Occupation_Other = 0,\n",
        "                             inp_Occupation_Salaried = 1,\n",
        "                             inp_Occupation_Self_Employed = 0,\n",
        "                             inp_Channel_Code_X2 = 0,\n",
        "                             inp_Channel_Code_X3 = 1,\n",
        "                             inp_Channel_Code_X4 = 0,\n",
        "                             inp_Credit_Product_Yes = 1,\n",
        "                             inp_Is_Active_Yes = 0\n",
        "                             )"
      ],
      "execution_count": 63,
      "outputs": [
        {
          "output_type": "execute_result",
          "data": {
            "application/vnd.google.colaboratory.intrinsic+json": {
              "type": "string"
            },
            "text/plain": [
              "'{\"Predicted Status\":{\"0\":1}}'"
            ]
          },
          "metadata": {
            "tags": []
          },
          "execution_count": 63
        }
      ]
    }
  ]
}